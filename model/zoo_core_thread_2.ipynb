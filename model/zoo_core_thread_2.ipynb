{
 "cells": [
  {
   "cell_type": "code",
   "execution_count": 1,
   "metadata": {},
   "outputs": [
    {
     "name": "stdout",
     "output_type": "stream",
     "text": [
      "train_data_orig (42495, 56) 2018-04-01 00:01:00,2018-05-01 00:01:00\n",
      "train_data_aug (42495, 56) 2018-04-01 00:01:00 2018-05-01 00:01:00\n",
      "train_data_orig after aug: (84990, 56) 2018-04-01 00:01:00 2018-05-01 00:01:00\n",
      "train_data_aug (42495, 56) 2018-04-01 00:01:00 2018-05-01 00:01:00\n",
      "train_data_orig after aug: (127485, 56) 2018-04-01 00:01:00 2018-05-01 00:01:00\n",
      "train_data_aug (42495, 56) 2018-04-01 00:01:00 2018-05-01 00:01:00\n",
      "train_data_orig after aug: (169980, 56) 2018-04-01 00:01:00 2018-05-01 00:01:00\n",
      "train_data_aug (42495, 56) 2018-04-01 00:01:00 2018-05-01 00:01:00\n",
      "train_data_orig after aug: (212475, 56) 2018-04-01 00:01:00 2018-05-01 00:01:00\n",
      "train_data_orig2 (212475, 56) 2018-04-01 00:01:00 2018-05-01 00:01:00\n"
     ]
    }
   ],
   "source": [
    "import json\n",
    "conf = json.load(open('config_zoo.json'))\n",
    "\n",
    "# often change\n",
    "USE_TEST = False\n",
    "SUBMIT_TRAINVAL = False\n",
    "\n",
    "# seldom change\n",
    "PREDICT = True\n",
    "SMOOTH_TRAIN = False\n",
    "AUGMENT = bool(conf['augment'])\n",
    "NORMALIZE = bool(conf['normalize'])\n",
    "SAVE_MODEL = False\n",
    "\n",
    "PRETRAINED_MODEL = False\n",
    "PRETRAINED_MODEL_NAME = 'y2019_11m_13d_09h_17min_53s_962269_tf_lstm_model.h5'\n",
    "if PRETRAINED_MODEL: \n",
    "    SAVE_MODEL = False\n",
    "    SMOOTH_TRAIN = False\n",
    "    USE_TEST = True\n",
    "import numpy as np\n",
    "import pandas as pd\n",
    "import matplotlib.pyplot as plt\n",
    "import os,sys,inspect,pickle,json,time,datetime,re,random; root = os.path.dirname(os.path.dirname(os.path.abspath(inspect.getfile(inspect.currentframe()))))\n",
    "import utils\n",
    "from pandas.plotting import register_matplotlib_converters\n",
    "register_matplotlib_converters()\n",
    "%matplotlib inline\n",
    "\n",
    "TARGET_ORIG = 'activity'\n",
    "DATA_DIR = 'activity-atactic'\n",
    "EXTRA_DATA1 = os.path.join('v00_original','activity_test_timestamps.csv')#'v00_original\\\\activity_test_timestamps.csv'\n",
    "EXTRA_DATA2 = os.path.join('pseudotest',conf['data_pseudotest'])\n",
    "random.seed(conf['rs'])\n",
    "np.random.seed(conf['rs'])\n",
    "\n",
    "PRINT_SHAPES = True\n",
    "def prints(*args, **kwargs): \n",
    "    if PRINT_SHAPES: print( \"\"+\" \".join(map(str,args))+\"\", **kwargs)\n",
    "\n",
    "# load\n",
    "train_data_orig = pickle.load(open(os.path.join(root,'input',DATA_DIR,conf['data'],'train.pkl'),\"rb\")) ;prints('train_data_orig',train_data_orig.shape,str(train_data_orig.index[0])+','+str(train_data_orig.index[-1]))\n",
    "\n",
    "if AUGMENT:\n",
    "    train_data_aug = pickle.load(open(os.path.join(root,'input',DATA_DIR,conf['data'],'train.pkl'),\"rb\")) ;prints('train_data_aug',train_data_aug.shape,train_data_aug.index[0],train_data_aug.index[-1])\n",
    "    #train_data_aug[TARGET_ORIG] = train_data_aug[TARGET_ORIG].ewm(span = 16).mean()#.plot(style = 'b', label = ' Exponential moving average')        \n",
    "    train_data_aug[TARGET_ORIG] = train_data_aug[TARGET_ORIG].rolling(\"0.1H\").aggregate(\"mean\")\n",
    "    train_data_orig = pd.concat([train_data_orig,train_data_aug], sort=True);prints('train_data_orig after aug:',train_data_orig.shape,train_data_orig.index[0],train_data_orig.index[-1])\n",
    "    \n",
    "    train_data_aug = pickle.load(open(os.path.join(root,'input',DATA_DIR,conf['data'],'train.pkl'),\"rb\")) ;prints('train_data_aug',train_data_aug.shape,train_data_aug.index[0],train_data_aug.index[-1])\n",
    "    train_data_aug[TARGET_ORIG] = train_data_aug[TARGET_ORIG].rolling(\"55MIN\").aggregate(\"mean\")\n",
    "    train_data_orig = pd.concat([train_data_orig,train_data_aug], sort=True);prints('train_data_orig after aug:',train_data_orig.shape,train_data_orig.index[0],train_data_orig.index[-1])\n",
    "    \n",
    "    train_data_aug = pickle.load(open(os.path.join(root,'input',DATA_DIR,conf['data'],'train.pkl'),\"rb\")) ;prints('train_data_aug',train_data_aug.shape,train_data_aug.index[0],train_data_aug.index[-1])\n",
    "    train_data_aug[TARGET_ORIG] = train_data_aug[TARGET_ORIG].rolling(\"3H\").aggregate(\"mean\")\n",
    "    train_data_orig = pd.concat([train_data_orig,train_data_aug], sort=True);prints('train_data_orig after aug:',train_data_orig.shape,train_data_orig.index[0],train_data_orig.index[-1])\n",
    "\n",
    "    train_data_aug = pickle.load(open(os.path.join(root,'input',DATA_DIR,conf['data'],'train.pkl'),\"rb\")) ;prints('train_data_aug',train_data_aug.shape,train_data_aug.index[0],train_data_aug.index[-1])\n",
    "    train_data_aug[TARGET_ORIG] = train_data_aug[TARGET_ORIG].rolling(\"6H\").aggregate(\"mean\")\n",
    "    train_data_orig = pd.concat([train_data_orig,train_data_aug], sort=True);prints('train_data_orig after aug:',train_data_orig.shape,train_data_orig.index[0],train_data_orig.index[-1])\n",
    "\n",
    "    \n",
    "# v2 for prediction\n",
    "train_data_orig2 = train_data_orig if conf['data_predict']==conf['data'] else pickle.load(open(os.path.join(root,'input',DATA_DIR,conf['data_predict'],'train.pkl'),\"rb\")) ;prints('train_data_orig2',train_data_orig2.shape,train_data_orig2.index[0],train_data_orig2.index[-1])\n",
    "\n",
    "#train_data_orig['activity_copy'] = train_data_orig['activity'] # hack for debug\n",
    "# train_data_orig['activity_smooth'] = train_data_orig['activity'].copy()\n",
    "# train_data_orig['activity_smooth'] = train_data_orig['activity_smooth'].ewm(span = 3600).mean()#.plot(style = 'b', label = ' Exponential moving average')        \n",
    "#if SMOOTH_TRAIN: train_data_orig[TARGET_ORIG] = train_data_orig[TARGET_ORIG].ewm(span = 360).mean()#.plot(style = 'b', label = ' Exponential moving average')        \n",
    "\n",
    "y_test_pseudo = pd.read_csv(os.path.join(root,'input',DATA_DIR,EXTRA_DATA2), index_col=\"date\", parse_dates=[\"date\"])\n",
    "if USE_TEST:\n",
    "    test_data_orig  = pickle.load(open(os.path.join(root,'input',DATA_DIR,conf['data'],'test.pkl'),\"rb\"))\n",
    "    test_data_orig2  = pickle.load(open(os.path.join(root,'input',DATA_DIR,conf['data_predict'],'test.pkl'),\"rb\"))\n",
    "    extra_data1 = pd.read_csv(os.path.join(root,'input',DATA_DIR,EXTRA_DATA1), index_col=\"date\", parse_dates=[\"date\"]) ;prints('test_data_orig',test_data_orig.shape, 'extra_data1',extra_data1.shape)\n",
    "else: extra_data1 = None\n",
    "#train_data_orig[TARGET_ORIG].plot()"
   ]
  },
  {
   "cell_type": "code",
   "execution_count": 2,
   "metadata": {},
   "outputs": [
    {
     "name": "stdout",
     "output_type": "stream",
     "text": [
      "train_data (212475, 56)\n",
      "test_data (0,)\n",
      "train dates= 2018-04-01 00:01:00 2018-04-21 00:01:00 val dates= 2018-04-21 00:01:00 2018-05-01 00:01:00\n",
      "x_train (142515, 55) y_train (142515, 1) x_val (69965, 55) y_val (69965, 1) x_test (0,)\n",
      "x_train_n (142515, 55) y_train_n (142515, 1) x_val_n (69965, 55) y_val_n (69965, 1)\n",
      "Training until validation scores don't improve for 20000 rounds\n",
      "[100]\ttraining's mape: 0.266182\tvalid_1's mape: 0.52921\n",
      "Did not meet early stopping. Best iteration is:\n",
      "[58]\ttraining's mape: 0.265908\tvalid_1's mape: 0.527904\n",
      "scores of y2019_11m_17d_08h_51min_22s_894218_  score_train = 11.043786695554495 score_val = 7.4126927646443725 score_test_pseudo= 0\n"
     ]
    }
   ],
   "source": [
    "features_orig = train_data_orig.columns.tolist(); features_orig.remove(TARGET_ORIG)\n",
    "#fenames = ['features_orig']#['together']#['f35 + f53_54_55_max']## + activity_copy']\n",
    "#felist = [features_orig]#[utils.together]#[['f35','f53_54_55_max']]##[utils.together]# + ['activity_copy']]  # [weights + stars] # [['f2']] # [rashod_r1, inside_r1_triple]\n",
    "\n",
    "\n",
    "\n",
    "lastiter = {'fold':'','target':'','features':''}\n",
    "\n",
    "\n",
    "\n",
    "#for fi,FEATURES in enumerate(felist):\n",
    "    #fename = fenames[fi]\n",
    "\n",
    "\n",
    "#FEATURES = weights + stars\n",
    "#for TARGET in [TARGET_ORIG]:\n",
    "\n",
    "for mtype in conf['models'].split(','):\n",
    "    for conf_i in utils.split_model_config(conf[mtype]):\n",
    "\n",
    "        TARGET = conf_i['target']\n",
    "\n",
    "        fename = conf_i['features']\n",
    "        if fename == 'features_orig': FEATURES = features_orig\n",
    "        else: FEATURES = utils.features_dict[fename]\n",
    "\n",
    "        if lastiter['fold']!=conf_i['fold'] or lastiter['features']!=conf_i['features'] or lastiter['target']!=conf_i['target']:\n",
    "            lastiter['fold']=conf_i['fold']; lastiter['features']=conf_i['features']; lastiter['target']=conf_i['target']\n",
    "\n",
    "            # 1) fit data\n",
    "            train_data = train_data_orig[FEATURES + [TARGET]] ;prints('train_data',train_data.shape)\n",
    "            test_data = test_data_orig[FEATURES] if USE_TEST else np.array([]) ;prints('test_data',test_data.shape)\n",
    "            train, val = utils.split_rows(train_data, conf, conf_i) ;prints('train dates=',train.index[0],train.index[-1],'val dates=',val.index[0],val.index[-1])\n",
    "            test  = test_data if USE_TEST else None\n",
    "            if SMOOTH_TRAIN: train['activity'] = train['activity'].ewm(span = 16).mean()#.plot(style = 'b', label = ' Exponential moving average')        \n",
    "            # split cols to numpy and norm\n",
    "            x_train, x_val, x_test, y_train, y_val = utils.split_cols_np(train, val, test, TARGET, USE_TEST) ;prints('x_train',x_train.shape, 'y_train',y_train.shape, 'x_val',x_val.shape, 'y_val',y_val.shape, 'x_test',x_test.shape)\n",
    "            if NORMALIZE: x_train_n, x_val_n, x_test_n, y_train_n, y_val_n = utils.normalize_by_train(x_train, x_val, x_test, y_train, y_val, train, TARGET, USE_TEST) ;prints('x_train_n',x_train_n.shape, 'y_train_n',y_train_n.shape, 'x_val_n',x_val_n.shape, 'y_val_n', y_val_n.shape)\n",
    "            else: x_train_n, x_val_n, x_test_n, y_train_n, y_val_n = x_train, x_val, x_test, y_train, y_val\n",
    "\n",
    "            # 2) predict data\n",
    "            if conf['data_predict']!=conf['data'] or SMOOTH_TRAIN==True: # dont wanna smooth dataset for prediction!\n",
    "                train_data2 = train_data_orig2[FEATURES + [TARGET]] ;prints('train_data2',train_data2.shape)\n",
    "                #if USE_TEST: test_data2 = test_data_orig2[FEATURES] ;print('test_data2',test_data2.shape)\n",
    "                test_data2 = test_data_orig2[FEATURES] if USE_TEST else np.array([]) ;prints('test_data2',test_data2.shape)\n",
    "                train2, val2 = utils.split_rows(train_data2, conf, conf_i) ;prints('train2 dates=',train2.index[0],train2.index[-1],'val2 dates=',val2.index[0],val2.index[-1])\n",
    "                test2  = test_data2 if USE_TEST else None\n",
    "                if SMOOTH_TRAIN: pass #train2['activity'] = train2['activity'].ewm(span = 16).mean()#.plot(style = 'b', label = ' Exponential moving average')        \n",
    "                # split cols to numpy and norm\n",
    "                x_train2, x_val2, x_test2, y_train2, y_val2 = utils.split_cols_np(train2, val2, test2, TARGET, USE_TEST) ;prints('x_train2',x_train2.shape, 'y_train2',y_train2.shape, 'x_val2',x_val2.shape, 'y_val2',y_val2.shape, 'x_test2',x_test2.shape)\n",
    "                if NORMALIZE: x_train_n2, x_val_n2, x_test_n2, y_train_n2, y_val_n2 = utils.normalize_by_train(x_train2, x_val2, x_test2, y_train2, y_val2, train2, TARGET, USE_TEST) ;prints('x_train_n2',x_train_n2.shape, 'y_train_n2',y_train_n2.shape, 'x_val_n2',x_val_n2.shape, 'y_val_n2', y_val_n2.shape)\n",
    "                else: x_train_n2, x_val_n2, x_test_n2, y_train_n2, y_val_n2 = x_train2, x_val2, x_test2, y_train2, y_val2\n",
    "            else: \n",
    "                train_data2, test_data2, train2, val2, test2, x_train2, x_val2, x_test2, y_train2, y_val2 = train_data, test_data, train, val, test, x_train, x_val, x_test, y_train, y_val\n",
    "                x_train_n2, x_val_n2, x_test_n2, y_train_n2, y_val_n2 = x_train_n, x_val_n, x_test_n, y_train_n, y_val_n\n",
    "\n",
    "#         for mtype in conf['models'].split(','):\n",
    "#             for conf_i in utils.split_model_config(conf[mtype]):\n",
    "        model = utils.init_model(mtype, conf_i)\n",
    "        if PRETRAINED_MODEL:\n",
    "            #curr_time = pd.read_csv('output/log_'+mtype+'.csv', index_col=0).index[-1]\n",
    "            #model = pickle.load(open(os.path.join('output','pretrained_models',curr_time+mtype+'_model.pkl'),\"rb\"))\n",
    "            #model = pickle.load(open(os.path.join('output','pretrained_models',PRETRAINED_MODEL_NAME),\"rb\"))\n",
    "            import tensorflow as tf\n",
    "            #loaded = tf.saved_model.load(os.path.join('output','pretrained_models',PRETRAINED_MODEL_NAME))\n",
    "            #path_h5 = os.path.join('output','pretrained_models',curr_time+mtype+'_model.h5')\n",
    "            path_h5 = os.path.join('output','pretrained_models',PRETRAINED_MODEL_NAME)\n",
    "            loaded = tf.keras.models.load_model(path_h5)\n",
    "            model.model = loaded\n",
    "        else:\n",
    "            model.prepare_data(x_train_n, y_train_n, x_val_n, y_val_n)\n",
    "            model.compile(x_train.shape)\n",
    "            model.fit(x_train_n, y_train_n, x_val_n, y_val_n)\n",
    "            conf_i = utils.add_log_info(conf_i, model, conf, TARGET, FEATURES, fename)\n",
    "        if PREDICT:\n",
    "#                     y_train_pred_n = model.predict(x_train_n) ;print('train predicted',y_train_pred_n.shape)\n",
    "#                     y_val_pred_n   = model.predict(x_val_n) ;print('val predicted',y_val_pred_n.shape)\n",
    "#                     y_test_pred_n  = model.predict(x_test_n) if USE_TEST else np.array([]) ;print('test predicted',y_test_pred_n.shape)\n",
    "            y_train_pred_n = model.predict(x_train_n2,train2)# ;print('train predicted',y_train_pred_n.shape)\n",
    "            y_val_pred_n   = model.predict(x_val_n2,val2)# ;print('val predicted',y_val_pred_n.shape)\n",
    "            y_test_pred_n  = model.predict(x_test_n2,test2) if USE_TEST else np.array([]) #;print('test predicted',y_test_pred_n.shape)\n",
    "\n",
    "            utils.evaluate(model, train2, val2, test2, y_test_pseudo, extra_data1, y_train_pred_n, y_val_pred_n, y_test_pred_n, conf_i, mtype, TARGET, NORMALIZE, USE_TEST=USE_TEST, submit_trainval=SUBMIT_TRAINVAL, save_model=SAVE_MODEL)\n",
    "            #evaluate(model, train2, val2, test2, extra_data1, y_train_pred_n, y_val_pred_n, y_test_pred_n, conf_i, mtype, TARGET, NORMALIZE, USE_TEST=USE_TEST, submit_trainval=SUBMIT_TRAINVAL, save_model=SAVE_MODEL)\n"
   ]
  },
  {
   "cell_type": "code",
   "execution_count": 3,
   "metadata": {},
   "outputs": [],
   "source": [
    "#pickle.dump( model, open( os.path.join('output','pretrained_models','model3.pkl'), \"wb\" ) )\n",
    "#import tensorflow as tf\n",
    "#tf.saved_model.save(model.model, os.path.join('output','pretrained_models','model3.pkl'))"
   ]
  },
  {
   "cell_type": "code",
   "execution_count": 4,
   "metadata": {},
   "outputs": [],
   "source": [
    "#loaded = tf.saved_model.load(os.path.join('output','pretrained_models',PRETRAINED_MODEL_NAME))\n"
   ]
  },
  {
   "cell_type": "code",
   "execution_count": 5,
   "metadata": {},
   "outputs": [],
   "source": [
    "#model.model.save('path_to_my_model.h5')"
   ]
  },
  {
   "cell_type": "markdown",
   "metadata": {},
   "source": [
    "# plot smoothed target"
   ]
  },
  {
   "cell_type": "code",
   "execution_count": null,
   "metadata": {},
   "outputs": [],
   "source": []
  },
  {
   "cell_type": "code",
   "execution_count": 6,
   "metadata": {},
   "outputs": [
    {
     "name": "stdout",
     "output_type": "stream",
     "text": [
      "(142515,) (69965,) (142515,) (69965,)\n"
     ]
    },
    {
     "data": {
      "image/png": "[encoded data removed]",
      "text/plain": [
       "<Figure size 432x288 with 1 Axes>"
      ]
     },
     "metadata": {
      "needs_background": "light"
     },
     "output_type": "display_data"
    }
   ],
   "source": [
    "if PREDICT:\n",
    "    train=train2; val=val2\n",
    "    if NORMALIZE: y_train_pred, y_val_pred, y_test_pred = utils.denormalize_by_train(y_train_pred_n, y_val_pred_n, y_test_pred_n, train, TARGET, USE_TEST)\n",
    "    else: y_train_pred, y_val_pred, y_test_pred = y_train_pred_n, y_val_pred_n, y_test_pred_n\n",
    "    y_train_pred_p = pd.Series(y_train_pred.flatten(), index=train.index, name=TARGET+\"_train_pred\").sort_index()\n",
    "    y_val_pred_p = pd.Series(y_val_pred.flatten(), index=val.index, name=TARGET+\"_val_pred\").sort_index() ;print(train[\"activity\"].shape, val[\"activity\"].shape, y_train_pred_p.shape, y_val_pred_p.shape)\n",
    "    #utils.plot_predictions(\"2018-04-23 07:50:00\", \"2018-04-23 08:25:00\", train, val, y_train_pred_p, y_val_pred_p, title='Last Activity')\n",
    "    #utils.plot_predictions(\"2018-04-01 07:50:00\", \"2018-04-23 08:25:00\", train, val, y_train_pred_p, y_val_pred_p, title='Last Activity')\n",
    "    if PRETRAINED_MODEL:\n",
    "        utils.plot_predictions(\"2018-02-13 14:31:00\", \"2018-12-31 22:07:00\", train, val, y_train_pred_p, y_val_pred_p, title='Last Activity')\n",
    "        #utils.plot_predictions(\"2018-04-23 01:16:00\", \"2018-04-24 16:16:00\", train, val, y_train_pred_p, y_val_pred_p, title='Last Activity')\n",
    "\n",
    "    else:\n",
    "        utils.plot_predictions(\"2018-02-13 14:31:00\", \"2018-12-31 22:07:00\", train, val, y_train_pred_p, y_val_pred_p, title='Last Activity')\n",
    "        #utils.plot_predictions(\"2018-11-01 06:16:00\", \"2018-11-01 12:17:00\", train, val, y_train_pred_p, y_val_pred_p, title='Last Activity')\n"
   ]
  },
  {
   "cell_type": "code",
   "execution_count": 7,
   "metadata": {},
   "outputs": [],
   "source": [
    "#pd.DataFrame([y_train_pred_p,y_val_pred_p]).T\n",
    "#train_data.shape"
   ]
  },
  {
   "cell_type": "code",
   "execution_count": 8,
   "metadata": {},
   "outputs": [],
   "source": [
    "# train_data = train_data2\n",
    "\n",
    "# import seaborn as sns\n",
    "# #features = ['activity']\n",
    "# curr_data = train_data\n",
    "# START = \"2018-04-01 00:01:00\"\n",
    "# STOP = \"2018-05-01 00:01:00\"\n",
    "\n",
    "# plt.figure(figsize=(18,12))\n",
    "# sns.scatterplot(\n",
    "#     data=curr_data, x=curr_data.index, \n",
    "#     y='activity', \n",
    "#     alpha=0.03, s=10\n",
    "# )\n",
    "\n",
    "# both_pred = pd.DataFrame([y_train_pred_p,y_val_pred_p]).T\n",
    "# sns.scatterplot(\n",
    "#     data=both_pred, x=curr_data.index, \n",
    "#     y='activity_train_pred', \n",
    "#     alpha=0.13, s=10\n",
    "# )\n",
    "# sns.scatterplot(\n",
    "#     data=both_pred, x=curr_data.index, \n",
    "#     y='activity_val_pred', \n",
    "#     alpha=0.13, s=10\n",
    "# )\n",
    "# plt.axvline('2018-10-13', c='green', linewidth=1)\n",
    "# plt.xlabel('Date'); plt.ylabel('Activity')\n",
    "# plt.xlim(\n",
    "#     curr_data.index.min() - datetime.timedelta(days=5),\n",
    "#     curr_data.index.max() + datetime.timedelta(days=5));"
   ]
  },
  {
   "cell_type": "markdown",
   "metadata": {},
   "source": [
    "# plot not smoothed target (prediction is smoothed additionally)"
   ]
  },
  {
   "cell_type": "code",
   "execution_count": 9,
   "metadata": {},
   "outputs": [],
   "source": [
    "# if PREDICT:\n",
    "#     train_data_orig2 = pickle.load(open(os.path.join(root,'input',DATA_DIR,conf['data_predict'],'train.pkl'),\"rb\")) ;print('train_data_orig2',train_data_orig2.shape,train_data_orig2.index[0],train_data_orig2.index[-1])\n",
    "#     #train_data_orig2['activity_copy'] = train_data_orig2['activity'] # hack for debug\n",
    "\n",
    "#     train_data2 = train_data_orig2[FEATURES + [TARGET]] ;print('train_data2',train_data2.shape)\n",
    "#     train2, val2 = utils.split_rows(train_data2, conf) ;print('train2 dates=',train2.index[0],train2.index[-1],'val2 dates=',val2.index[0],val2.index[-1])\n",
    "\n",
    "#     if NORMALIZE: y_train_pred, y_val_pred, y_test_pred = utils.denormalize_by_train(y_train_pred_n, y_val_pred_n, y_test_pred_n, train2, TARGET, USE_TEST)\n",
    "#     else: y_train_pred, y_val_pred, y_test_pred = y_train_pred_n, y_val_pred_n, y_test_pred_n\n",
    "#     y_train_pred_p = pd.Series(y_train_pred.flatten(), index=train2.index, name=TARGET+\"_train_pred\").sort_index()\n",
    "#     y_val_pred_p = pd.Series(y_val_pred.flatten(), index=val2.index, name=TARGET+\"_val_pred\").sort_index() ;print(train2[\"activity\"].shape, val2[\"activity\"].shape, y_train_pred_p.shape, y_val_pred_p.shape)\n",
    "#     #utils.plot_predictions(\"2018-04-23 07:50:00\", \"2018-04-23 08:25:00\", train, val, y_train_pred_p, y_val_pred_p, title='Last Activity')\n",
    "#     #utils.plot_predictions(\"2018-04-01 07:50:00\", \"2018-04-23 08:25:00\", train2, val2, y_train_pred_p, y_val_pred_p, title='Last Activity')\n",
    "#     #y_train_pred_p2 = y_train_pred_p.multiply(train2[TARGET].std()).add(train2[TARGET].mean())\n",
    "    \n",
    "#     y_train_pred_p2 = y_train_pred_p\n",
    "\n",
    "#     # way1 - smooth/mean\n",
    "# #     y_train_pred_p2 = y_train_pred_p.ewm(span = 26).mean()\n",
    "# #     y_train_pred_p2 = y_train_pred_p2.subtract(train2[TARGET].mean()).multiply(5/train2[TARGET].std()).add(train2[TARGET].mean())\n",
    "#     # way2 - mean/smooth\n",
    "#     y_train_pred_p2 = y_train_pred_p.subtract(train2[TARGET].mean()).multiply(5/train2[TARGET].std()).add(train2[TARGET].mean())\n",
    "#     y_train_pred_p2 = y_train_pred_p2.ewm(span = 6).mean()\n",
    "#     # way3 - just smooth\n",
    "# #     y_train_pred_p2 = y_train_pred_p.ewm(span = 6).mean()\n",
    "#     # way4 - mean of self\n",
    "# #     y_train_pred_p2 = y_train_pred_p.subtract(y_train_pred_p.mean()).multiply(5/y_train_pred_p.std()).add(y_train_pred_p.mean())\n",
    "# #     y_train_pred_p2 = y_train_pred_p2.ewm(span = 6).mean()\n",
    "\n",
    "#     if PRETRAINED_MODEL:\n",
    "#         utils.plot_predictions(\"2018-02-13 14:31:00\", \"2018-12-31 22:07:00\", train2, val2, y_train_pred_p2, y_val_pred_p, title='Last Activity')\n",
    "#     else:\n",
    "#         # day\n",
    "#         #utils.plot_predictions(\"2018-04-22 16:50:00\", \"2018-04-23 10:01:00\", train2, val2, y_train_pred_p2, y_val_pred_p, title='Last Activity')\n",
    "#         #utils.plot_predictions(\"2018-04-22 16:50:00\", \"2018-04-24 18:01:00\", train2, val2, y_train_pred_p2, y_val_pred_p, title='Last Activity')\n",
    "#         # week\n",
    "#         #utils.plot_predictions(\"2018-04-18 16:50:00\", \"2018-04-23 10:01:00\", train2, val2, y_train_pred_p2, y_val_pred_p, title='Last Activity')\n",
    "#         # month (as smoothed)\n",
    "#         #utils.plot_predictions(\"2018-04-01 07:50:00\", \"2018-04-23 08:25:00\", train2, val2, y_train_pred_p2, y_val_pred_p, title='Last Activity')\n",
    "#         # month big\n",
    "#         #utils.plot_predictions(\"2018-04-01 07:50:00\", \"2018-05-01 00:01:00\", train2, val2, y_train_pred_p2, y_val_pred_p, title='Last Activity')\n",
    "#         # year\n",
    "#         #utils.plot_predictions(\"2018-04-01 07:50:00\", \"2018-12-23 08:25:00\", train2, val2, y_train_pred_p2, y_val_pred_p, title='Last Activity')\n",
    "#         #utils.plot_predictions(\"2018-11-01 06:16:00\", \"2018-11-01 12:17:00\", train2, val2, y_train_pred_p2, y_val_pred_p, title='Last Activity')\n",
    "#         utils.plot_predictions(\"2018-02-13 14:31:00\", \"2018-12-31 22:07:00\", train2, val2, y_train_pred_p2, y_val_pred_p, title='Last Activity')\n",
    "\n",
    "\n",
    "#     print(train2[TARGET].mean())"
   ]
  },
  {
   "cell_type": "code",
   "execution_count": 10,
   "metadata": {},
   "outputs": [],
   "source": [
    "if model.conf['name'] == 'tf_lstm' and model.conf['step']==1: # train dates = 2018-04-01 00:01:00 2018-04-23 08:08:00\n",
    "    #model.plot_1_prediction(\"2018-04-23 08:07:00\", train, TARGET_ORIG, USE_TEST, NORMALIZE, train, felist, filler=30) # date=\"2018-04-01 00:06:00\"\n",
    "    #model.plot_1_prediction(\"2018-04-23 08:25:00\", val, TARGET_ORIG, USE_TEST, NORMALIZE, train, felist, filler=30) # date=\"2018-04-01 00:06:00\"\n",
    "    model.plot_1_prediction(\"2018-04-23 07:00:00\", train, TARGET_ORIG, USE_TEST, NORMALIZE, train, felist, filler=30) # date=\"2018-04-01 00:06:00\"\n"
   ]
  },
  {
   "cell_type": "code",
   "execution_count": null,
   "metadata": {},
   "outputs": [],
   "source": []
  },
  {
   "cell_type": "code",
   "execution_count": null,
   "metadata": {},
   "outputs": [],
   "source": []
  }
 ],
 "metadata": {
  "kernelspec": {
   "display_name": "Python 3",
   "language": "python",
   "name": "python3"
  },
  "language_info": {
   "codemirror_mode": {
    "name": "ipython",
    "version": 3
   },
   "file_extension": ".py",
   "mimetype": "text/x-python",
   "name": "python",
   "nbconvert_exporter": "python",
   "pygments_lexer": "ipython3",
   "version": "3.7.3"
  }
 },
 "nbformat": 4,
 "nbformat_minor": 2
}
