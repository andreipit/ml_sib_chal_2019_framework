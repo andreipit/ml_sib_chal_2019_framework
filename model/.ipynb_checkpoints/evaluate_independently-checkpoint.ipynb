{
 "cells": [
  {
   "cell_type": "code",
   "execution_count": 1,
   "metadata": {},
   "outputs": [
    {
     "name": "stdout",
     "output_type": "stream",
     "text": [
      "y_train_pred_p (229912, 1) y_val_pred_p (76638, 1)\n"
     ]
    }
   ],
   "source": [
    "import numpy as np\n",
    "import pandas as pd\n",
    "import os,sys,inspect,pickle,json,time,datetime,re,random; root = os.path.dirname(os.path.dirname(os.path.abspath(inspect.getfile(inspect.currentframe()))))\n",
    "import utils\n",
    "import matplotlib.pyplot as plt\n",
    "%matplotlib inline\n",
    "#conf = json.load(open('config_zoo.json'))\n",
    "#mtype = conf['models'].split(',')[0]\n",
    "TARGET_ORIG = 'activity'\n",
    "TARGET = TARGET_ORIG\n",
    "DATA_DIR = 'activity-atactic'\n",
    "\n",
    "curr_time = 'y2019_11m_12d_21h_28min_47s_503635_'#pd.read_csv('output/log_'+mtype+'.csv', index_col=0).index[-1]\n",
    "mtype = 'tf_lstm'\n",
    "\n",
    "y_train_pred_p = pd.read_csv('output/trainval/'+curr_time+mtype+'_train_sub.csv', index_col=0)\n",
    "y_val_pred_p = pd.read_csv('output/trainval/'+curr_time+mtype+'_val_sub.csv', index_col=0)\n",
    "\n",
    "print('y_train_pred_p',y_train_pred_p.shape,'y_val_pred_p',y_val_pred_p.shape)"
   ]
  },
  {
   "cell_type": "code",
   "execution_count": 2,
   "metadata": {},
   "outputs": [
    {
     "name": "stdout",
     "output_type": "stream",
     "text": [
      "train_data_orig (300737, 331) 2018-02-13 14:31:00 2018-12-31 22:07:00\n",
      "train (225552, 331) val (75185, 331) train dates= 2018-02-13 14:31:00 2018-11-01 09:16:00 val dates= 2018-11-01 09:17:00 2018-12-31 22:07:00\n"
     ]
    }
   ],
   "source": [
    "conf = json.load(open('config_zoo.json'))\n",
    "TARGET_ORIG = 'activity'\n",
    "DATA_DIR = 'activity-atactic'\n",
    "#EXTRA_DATA1 = 'v00_original\\\\activity_test_timestamps.csv'\n",
    "#random.seed(conf['rs'])\n",
    "#np.random.seed(conf['rs'])\n",
    "EVALUATION_DATA = 'v06_55min'#'v02_add55x5x3roll'\n",
    "\n",
    "# load\n",
    "train_data_orig = pickle.load(open(os.path.join(root,'input',DATA_DIR,EVALUATION_DATA,'train.pkl'),\"rb\")) ;print('train_data_orig',train_data_orig.shape,train_data_orig.index[0],train_data_orig.index[-1])\n",
    "train_data = train_data_orig#[FEATURES + [TARGET]] ;print('train_data',train_data.shape)\n",
    "#if USE_TEST: test_data = test_data_orig[FEATURES] ;print('test_data',test_data.shape)\n",
    "conf={'datasize':'med'}\n",
    "train, val = utils.split_rows(train_data, conf, split_type='min') ;print('train',train.shape,'val',val.shape,'train dates=',train.index[0],train.index[-1],'val dates=',val.index[0],val.index[-1])\n",
    "        "
   ]
  },
  {
   "cell_type": "code",
   "execution_count": 3,
   "metadata": {},
   "outputs": [
    {
     "data": {
      "text/plain": [
       "(225552,)"
      ]
     },
     "execution_count": 3,
     "metadata": {},
     "output_type": "execute_result"
    }
   ],
   "source": [
    "train[TARGET].values.shape"
   ]
  },
  {
   "cell_type": "code",
   "execution_count": 4,
   "metadata": {},
   "outputs": [
    {
     "ename": "MemoryError",
     "evalue": "",
     "output_type": "error",
     "traceback": [
      "\u001b[1;31m---------------------------------------------------------------------------\u001b[0m",
      "\u001b[1;31mMemoryError\u001b[0m                               Traceback (most recent call last)",
      "\u001b[1;32m<ipython-input-4-4241e0c17f83>\u001b[0m in \u001b[0;36m<module>\u001b[1;34m\u001b[0m\n\u001b[0;32m      1\u001b[0m \u001b[1;32mdef\u001b[0m \u001b[0mmape\u001b[0m\u001b[1;33m(\u001b[0m\u001b[0my_true\u001b[0m\u001b[1;33m,\u001b[0m \u001b[0my_pred\u001b[0m\u001b[1;33m)\u001b[0m\u001b[1;33m:\u001b[0m \u001b[1;32mreturn\u001b[0m \u001b[1;36m100\u001b[0m \u001b[1;33m*\u001b[0m \u001b[0mnp\u001b[0m\u001b[1;33m.\u001b[0m\u001b[0mmean\u001b[0m\u001b[1;33m(\u001b[0m\u001b[0mnp\u001b[0m\u001b[1;33m.\u001b[0m\u001b[0mabs\u001b[0m\u001b[1;33m(\u001b[0m\u001b[1;33m(\u001b[0m\u001b[0my_pred\u001b[0m\u001b[1;33m-\u001b[0m\u001b[0my_true\u001b[0m\u001b[1;33m)\u001b[0m\u001b[1;33m/\u001b[0m\u001b[0my_true\u001b[0m\u001b[1;33m)\u001b[0m\u001b[1;33m)\u001b[0m\u001b[1;33m\u001b[0m\u001b[1;33m\u001b[0m\u001b[0m\n\u001b[1;32m----> 2\u001b[1;33m \u001b[0mscore_train\u001b[0m \u001b[1;33m=\u001b[0m \u001b[0mmape\u001b[0m\u001b[1;33m(\u001b[0m\u001b[0mtrain\u001b[0m\u001b[1;33m[\u001b[0m\u001b[0mTARGET\u001b[0m\u001b[1;33m]\u001b[0m\u001b[1;33m.\u001b[0m\u001b[0mvalues\u001b[0m\u001b[1;33m,\u001b[0m \u001b[0my_train_pred_p\u001b[0m\u001b[1;33m.\u001b[0m\u001b[0mvalues\u001b[0m\u001b[1;33m)\u001b[0m\u001b[1;33m\u001b[0m\u001b[1;33m\u001b[0m\u001b[0m\n\u001b[0m\u001b[0;32m      3\u001b[0m \u001b[0mscore_val\u001b[0m \u001b[1;33m=\u001b[0m \u001b[0mmape\u001b[0m\u001b[1;33m(\u001b[0m\u001b[0mval\u001b[0m\u001b[1;33m[\u001b[0m\u001b[0mTARGET\u001b[0m\u001b[1;33m]\u001b[0m\u001b[1;33m.\u001b[0m\u001b[0mvalues\u001b[0m\u001b[1;33m,\u001b[0m   \u001b[0my_val_pred_p\u001b[0m\u001b[1;33m.\u001b[0m\u001b[0mvalues\u001b[0m\u001b[1;33m)\u001b[0m\u001b[1;33m\u001b[0m\u001b[1;33m\u001b[0m\u001b[0m\n\u001b[0;32m      4\u001b[0m \u001b[0mprint\u001b[0m\u001b[1;33m(\u001b[0m\u001b[1;34m'score_train'\u001b[0m\u001b[1;33m,\u001b[0m\u001b[0mscore_train\u001b[0m\u001b[1;33m,\u001b[0m\u001b[1;34m'score_val'\u001b[0m\u001b[1;33m,\u001b[0m\u001b[0mscore_val\u001b[0m\u001b[1;33m)\u001b[0m\u001b[1;33m\u001b[0m\u001b[1;33m\u001b[0m\u001b[0m\n",
      "\u001b[1;32m<ipython-input-4-4241e0c17f83>\u001b[0m in \u001b[0;36mmape\u001b[1;34m(y_true, y_pred)\u001b[0m\n\u001b[1;32m----> 1\u001b[1;33m \u001b[1;32mdef\u001b[0m \u001b[0mmape\u001b[0m\u001b[1;33m(\u001b[0m\u001b[0my_true\u001b[0m\u001b[1;33m,\u001b[0m \u001b[0my_pred\u001b[0m\u001b[1;33m)\u001b[0m\u001b[1;33m:\u001b[0m \u001b[1;32mreturn\u001b[0m \u001b[1;36m100\u001b[0m \u001b[1;33m*\u001b[0m \u001b[0mnp\u001b[0m\u001b[1;33m.\u001b[0m\u001b[0mmean\u001b[0m\u001b[1;33m(\u001b[0m\u001b[0mnp\u001b[0m\u001b[1;33m.\u001b[0m\u001b[0mabs\u001b[0m\u001b[1;33m(\u001b[0m\u001b[1;33m(\u001b[0m\u001b[0my_pred\u001b[0m\u001b[1;33m-\u001b[0m\u001b[0my_true\u001b[0m\u001b[1;33m)\u001b[0m\u001b[1;33m/\u001b[0m\u001b[0my_true\u001b[0m\u001b[1;33m)\u001b[0m\u001b[1;33m)\u001b[0m\u001b[1;33m\u001b[0m\u001b[1;33m\u001b[0m\u001b[0m\n\u001b[0m\u001b[0;32m      2\u001b[0m \u001b[0mscore_train\u001b[0m \u001b[1;33m=\u001b[0m \u001b[0mmape\u001b[0m\u001b[1;33m(\u001b[0m\u001b[0mtrain\u001b[0m\u001b[1;33m[\u001b[0m\u001b[0mTARGET\u001b[0m\u001b[1;33m]\u001b[0m\u001b[1;33m.\u001b[0m\u001b[0mvalues\u001b[0m\u001b[1;33m,\u001b[0m \u001b[0my_train_pred_p\u001b[0m\u001b[1;33m.\u001b[0m\u001b[0mvalues\u001b[0m\u001b[1;33m)\u001b[0m\u001b[1;33m\u001b[0m\u001b[1;33m\u001b[0m\u001b[0m\n\u001b[0;32m      3\u001b[0m \u001b[0mscore_val\u001b[0m \u001b[1;33m=\u001b[0m \u001b[0mmape\u001b[0m\u001b[1;33m(\u001b[0m\u001b[0mval\u001b[0m\u001b[1;33m[\u001b[0m\u001b[0mTARGET\u001b[0m\u001b[1;33m]\u001b[0m\u001b[1;33m.\u001b[0m\u001b[0mvalues\u001b[0m\u001b[1;33m,\u001b[0m   \u001b[0my_val_pred_p\u001b[0m\u001b[1;33m.\u001b[0m\u001b[0mvalues\u001b[0m\u001b[1;33m)\u001b[0m\u001b[1;33m\u001b[0m\u001b[1;33m\u001b[0m\u001b[0m\n\u001b[0;32m      4\u001b[0m \u001b[0mprint\u001b[0m\u001b[1;33m(\u001b[0m\u001b[1;34m'score_train'\u001b[0m\u001b[1;33m,\u001b[0m\u001b[0mscore_train\u001b[0m\u001b[1;33m,\u001b[0m\u001b[1;34m'score_val'\u001b[0m\u001b[1;33m,\u001b[0m\u001b[0mscore_val\u001b[0m\u001b[1;33m)\u001b[0m\u001b[1;33m\u001b[0m\u001b[1;33m\u001b[0m\u001b[0m\n",
      "\u001b[1;31mMemoryError\u001b[0m: "
     ]
    }
   ],
   "source": [
    "def mape(y_true, y_pred): return 100 * np.mean(np.abs((y_pred-y_true)/y_true))\n",
    "#score_train = mape(train[TARGET].values, y_train_pred_p.values)\n",
    "score_val = mape(val[TARGET].values,   y_val_pred_p.values)\n",
    "print('score_train',score_train,'score_val',score_val)"
   ]
  },
  {
   "cell_type": "code",
   "execution_count": null,
   "metadata": {},
   "outputs": [],
   "source": []
  },
  {
   "cell_type": "code",
   "execution_count": null,
   "metadata": {},
   "outputs": [],
   "source": []
  },
  {
   "cell_type": "code",
   "execution_count": null,
   "metadata": {},
   "outputs": [],
   "source": []
  }
 ],
 "metadata": {
  "kernelspec": {
   "display_name": "Python 3",
   "language": "python",
   "name": "python3"
  },
  "language_info": {
   "codemirror_mode": {
    "name": "ipython",
    "version": 3
   },
   "file_extension": ".py",
   "mimetype": "text/x-python",
   "name": "python",
   "nbconvert_exporter": "python",
   "pygments_lexer": "ipython3",
   "version": "3.7.3"
  }
 },
 "nbformat": 4,
 "nbformat_minor": 2
}
