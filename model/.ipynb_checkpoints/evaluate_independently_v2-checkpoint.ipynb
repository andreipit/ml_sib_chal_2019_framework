{
 "cells": [
  {
   "cell_type": "code",
   "execution_count": 44,
   "metadata": {},
   "outputs": [
    {
     "name": "stdout",
     "output_type": "stream",
     "text": [
      "False\n",
      "mape S8_4269 0.0\n",
      "mape S8_3581 1.6858939049382786\n",
      "mape S8_2847 0.00915396395541586\n",
      "mape S8_4931 5.316754279119668e-13\n",
      "blend 0.41912798469989926\n",
      "model2 new 1.6851610800175651\n",
      "model3 new 3.5323447457610856e-15\n",
      "model2 neww 1.1255542654310083e-15\n"
     ]
    }
   ],
   "source": [
    "import pandas as pd\n",
    "import numpy as np\n",
    "\n",
    "m1_l = pd.read_csv('output/final/model1/S8_4269.csv', index_col=0, parse_dates=[\"date\"])\n",
    "m1_r = pd.read_csv('output/final/model1/submit_model1.csv', index_col=0, parse_dates=[\"date\"])\n",
    "\n",
    "m2_l = pd.read_csv('output/final/model2/S8_3581.csv', index_col=0, parse_dates=[\"date\"])\n",
    "m2_r = pd.read_csv('output/final/model2/submit_model2.csv', index_col=0, parse_dates=[\"date\"])\n",
    "\n",
    "m3_l = pd.read_csv('output/final/model3/S8_2847.csv', index_col=0, parse_dates=[\"date\"])\n",
    "m3_r = pd.read_csv('output/final/model3/submit_model3.csv', index_col=0, parse_dates=[\"date\"])\n",
    "\n",
    "m4_l = pd.read_csv('output/final/model4/S8_4931.csv', index_col=0, parse_dates=[\"date\"])\n",
    "m4_r = pd.read_csv('output/final/model4/submit_model4.csv', index_col=0, parse_dates=[\"date\"])\n",
    "\n",
    "\n",
    "blend_l = pd.read_csv('output/final/submit_kaggle.csv', index_col=0, parse_dates=[\"date\"])\n",
    "blend_r = pd.read_csv('output/final/submit_final.csv', index_col=0, parse_dates=[\"date\"])\n",
    "\n",
    "m2_new = pd.read_csv('output/final/y2019_11m_18d_19h_42min_38s_618926_lgb_sub.csv', index_col=0, parse_dates=[\"date\"])\n",
    "m2_neww = pd.read_csv('output/final/model2/y2019_11m_13d_20h_05min_28s_126962_lgb_sub.csv', index_col=0, parse_dates=[\"date\"])\n",
    "\n",
    "m3_new = pd.read_csv('output/final/y2019_11m_18d_19h_55min_32s_214099_lgb_sub.csv', index_col=0, parse_dates=[\"date\"])\n",
    "test = pd.read_csv('output/final/y2019_11m_18d_20h_24min_25s_164715_lgb_sub.csv', index_col=0, parse_dates=[\"date\"])\n",
    "\n",
    " = \n",
    "\n",
    "print(m2_r['activity'].equals(m2_neww['activity']))\n",
    "\n",
    "def mape(y_true, y_pred): return 100 * np.mean(np.abs((y_pred-y_true)/y_true))\n",
    "#score_train = mape(train[TARGET].values, y_train_pred_p.values)\n",
    "print('mape S8_4269',mape(m1_l['activity'].values,   m1_r['activity'].values))\n",
    "print('mape S8_3581',mape(m2_l['activity'].values,   m2_r['activity'].values))\n",
    "print('mape S8_2847',mape(m3_l['activity'].values,   m3_r['activity'].values))\n",
    "print('mape S8_4931',mape(m4_l['activity'].values,   m4_r['activity'].values))\n",
    "print('blend',mape(blend_l['activity'].values,   blend_r['activity'].values))\n",
    "print('model2 new',mape(m2_l['activity'].values,   m2_new['activity'].values))\n",
    "print('model3 new',mape(m3_l['activity'].values,   m3_new['activity'].values))\n",
    "print('model2 neww',mape(m2_r['activity'].values,   m2_neww['activity'].values))\n",
    "\n"
   ]
  },
  {
   "cell_type": "code",
   "execution_count": 36,
   "metadata": {},
   "outputs": [
    {
     "name": "stdout",
     "output_type": "stream",
     "text": [
      "submitions are equal? True\n",
      "mape= 0.0\n"
     ]
    }
   ],
   "source": [
    "import pandas as pd\n",
    "import numpy as np\n",
    "sub_1 = pd.read_csv('output/final/model1/S8_4269.csv', index_col=0, parse_dates=[\"date\"])\n",
    "sub_2 = pd.read_csv('output/final/model1/submit_model1.csv', index_col=0, parse_dates=[\"date\"])\n",
    "print('submitions are equal?',sub_1['activity'].equals(sub_2['activity']))\n",
    "def mape(y_true, y_pred): return 100 * np.mean(np.abs((y_pred-y_true)/y_true))\n",
    "print('mape=',mape(sub_1['activity'].values,   sub_2['activity'].values))\n",
    "\n",
    "\n"
   ]
  },
  {
   "cell_type": "code",
   "execution_count": null,
   "metadata": {},
   "outputs": [],
   "source": []
  },
  {
   "cell_type": "code",
   "execution_count": null,
   "metadata": {},
   "outputs": [],
   "source": []
  },
  {
   "cell_type": "code",
   "execution_count": null,
   "metadata": {},
   "outputs": [],
   "source": []
  },
  {
   "cell_type": "code",
   "execution_count": null,
   "metadata": {},
   "outputs": [],
   "source": []
  }
 ],
 "metadata": {
  "kernelspec": {
   "display_name": "Python 3",
   "language": "python",
   "name": "python3"
  },
  "language_info": {
   "codemirror_mode": {
    "name": "ipython",
    "version": 3
   },
   "file_extension": ".py",
   "mimetype": "text/x-python",
   "name": "python",
   "nbconvert_exporter": "python",
   "pygments_lexer": "ipython3",
   "version": "3.7.3"
  }
 },
 "nbformat": 4,
 "nbformat_minor": 2
}
