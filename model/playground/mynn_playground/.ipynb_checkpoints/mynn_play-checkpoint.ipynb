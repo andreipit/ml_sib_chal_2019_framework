{
 "cells": [
  {
   "cell_type": "code",
   "execution_count": 1,
   "metadata": {},
   "outputs": [
    {
     "name": "stdout",
     "output_type": "stream",
     "text": [
      "x_train_n (12, 3) x_val_n (12, 3) y_train_n (12, 1) y_val_n (12, 1)\n"
     ]
    }
   ],
   "source": [
    "\n",
    "import pandas as pd\n",
    "import numpy as np\n",
    "\n",
    "x_train_n = pd.DataFrame({'fruit_label':[0,    1,    0,    1,    0,    1,    0,    1,    0,    1,    0,    1], \n",
    "                      'mass':       [154,  260,  148,  218,  150,  142,  148,  316,  148,  148,  152,  198],\n",
    "                      'width':      [6.15, 7.55, 6.55, 7.05, 5.95, 5.97, 5.85, 8.52, 6.45, 6.08, 6.35, 6.87]}).values\n",
    "y_train_n = pd.DataFrame({'color_score':[35,   46,   34,   46,   27,   52,   28,   49,   28,   60,   28,   64]}).values\n",
    "\n",
    "\n",
    "x_val_n  = pd.DataFrame({'fruit_label':[0,    1,    0,    1,    0,    1,    0,    1,    0,    1,    0,    1], \n",
    "                      'mass':       [150,  120,  154,  148,  154,  196,  154,  164,  150,  142,  144,  262],\n",
    "                      'width':      [6.15, 5.53, 6.65, 6.17, 7.15, 6.48, 6.35, 5.93, 5.75, 6.08, 5.70, 7.58]}).values\n",
    "y_val_n = pd.DataFrame({'color_score':[24,   47,   31,   46,   42,   58,   27,   49,   19,   61,   26,   50]}).values\n",
    "\n",
    "\n",
    "print('x_train_n',x_train_n.shape, 'x_val_n',x_val_n.shape, 'y_train_n',y_train_n.shape, 'y_val_n',y_val_n.shape)\n"
   ]
  },
  {
   "cell_type": "code",
   "execution_count": null,
   "metadata": {},
   "outputs": [],
   "source": []
  },
  {
   "cell_type": "code",
   "execution_count": null,
   "metadata": {},
   "outputs": [],
   "source": []
  },
  {
   "cell_type": "code",
   "execution_count": 2,
   "metadata": {},
   "outputs": [
    {
     "name": "stdout",
     "output_type": "stream",
     "text": [
      "mynn init done\n",
      "mynn compile done\n",
      "None\n"
     ]
    },
    {
     "data": {
      "text/plain": [
       "array([0, 0, 0, 0, 0, 0, 0, 0, 0, 0, 0, 0], dtype=int64)"
      ]
     },
     "execution_count": 2,
     "metadata": {},
     "output_type": "execute_result"
    }
   ],
   "source": [
    "import random as rn\n",
    "import numpy as np\n",
    "from mylib_model import my_l_layers_ffn\n",
    "from mylib_core import random_mini_batches, gradient_checking, speed\n",
    "\n",
    "class TrainMYNN():\n",
    "    model = None\n",
    "    conf = None\n",
    "    history_callback = None\n",
    "\n",
    "    def __init__(self, conf):\n",
    "        self.conf = conf\n",
    "        print('mynn init done')\n",
    "        return\n",
    "\n",
    "    def compile(self, x_train_shape):\n",
    "        print('mynn compile done')\n",
    "        return\n",
    "\n",
    "    def fit(self, x_train, y_train, x_val, y_val):\n",
    "        mini_batches = random_mini_batches(x_train.T, y_train.T, mini_batch_size=20) #for i in range(len(mini_batches)): print('\\n batch 1 X shape = ', mini_batches[i][0].shape, '\\n batch 1 Y shape = ', mini_batches[i][1].shape)\n",
    "        self.model = my_l_layers_ffn(\n",
    "            optimizer='adam', # adam # momentum, gd\n",
    "            DO_keep_prob=1, #  # 1 turns off Dropout (0.86 - AndrewNG)\n",
    "            L2_lambd=3, # 0 will turn off, 0.7 - changes from 90 degree plane to 20, 2.8 good\n",
    "            layers_dims=[x_train.shape[1],x_train.shape[1],y_train.shape[1]], \n",
    "            num_epochs = 1, # 20000\n",
    "            learning_rate = 0.003, \n",
    "            X=x_train.T, \n",
    "            Y=y_train.T, \n",
    "            mini_batches=mini_batches, \n",
    "            print_cost = False,  \n",
    "            activation = 'relu', \n",
    "            activation_l = 'softmax', \n",
    "            loss='log', \n",
    "            lr_decay_type='pop', # no, exp 0.95 or 0.01; pop 0.01\n",
    "            lr_decay_rate=0.01,  #  pop: more decay_rate, smaller learning rate (now can increase learning_rate), exp: more decay more lrate\n",
    "            wb_init_type='he', \n",
    "            wb_init_coef=0.009, # [0.9,0.09 for gd, 0.009 for adam] if all predictions == 1 => increse init_coef, if all==0 -> decrease\n",
    "            g_checking=False\n",
    "        )\n",
    "        self.model.fit()\n",
    "        self.history_callback = None\n",
    "        return\n",
    "\n",
    "    def predict(self, x):\n",
    "        #print('lgb predict done')\n",
    "        return self.model.predict(x.T)\n",
    "    \n",
    "    def get_costs(self):\n",
    "        oy_train_list = self.history_callback.history[\"loss\"]\n",
    "        oy_val_list = self.history_callback.history[\"val_loss\"]\n",
    "        #ox_list = [x for x in range(1,self.conf['epochs']+1)] # early stopping can cause error\n",
    "        ox_list = [x for x in range(1,len(oy_train_list)+1)]\n",
    "        title = self.conf['name'] + '_'\n",
    "        for t in self.conf['tune'].split(','): \n",
    "            if t!='': title += t+'_'+str(self.conf[t])+'_'\n",
    "        return {'ox_list':ox_list, 'oy_train_list':oy_train_list, 'oy_val_list':oy_val_list, 'title':title}\n",
    "\n",
    " \n",
    "            \n",
    "\n",
    "conf_i = {\n",
    "        \"name\":\"mynn\",\n",
    "        \"tune\":\"\",\n",
    "        \"rs\":2734,\n",
    "        \"metric\":\"mape\", \n",
    "        \"num_threads\": -1, \n",
    "        \"objective\": \"regression\", \n",
    "        \"verbosity\": 1,\n",
    "        \"rounds\":3,\n",
    "        \"verbose_eval\":100,\n",
    "        \"early_stopping_rounds\":2000\n",
    "    }\n",
    "model = TrainMYNN(conf_i)\n",
    "model.compile(x_train_n.shape)\n",
    "model.fit(x_train_n, y_train_n, x_val_n, y_val_n)\n",
    "print(model.history_callback)\n",
    "\n",
    "y_train_pred_n = model.predict(x_train_n) \n",
    "y_val_pred_n   = model.predict(x_val_n) \n",
    "#y_test_pred_n  = model.predict(x_test_n) \n",
    "        \n",
    "y_train_pred_n\n",
    "#final_model.feature_importance()\n",
    "#loss_history = history_callback.history[\"loss\"]\n",
    "#history_callback.history\n",
    "# y_train_pred_n = model.predict(x_train_n) \n",
    "#model.model.evals_result_\n",
    "\n",
    "\n",
    "#history_callback['training']['mape']\n",
    "#type(model.get_costs()['oy_train_list'][0])\n",
    "#model.get_costs()\n",
    "#list(np.array(model.get_costs()['oy_train_list'], dtype=np.float32))"
   ]
  },
  {
   "cell_type": "code",
   "execution_count": 3,
   "metadata": {},
   "outputs": [
    {
     "data": {
      "text/plain": [
       "((12, 1), (12,))"
      ]
     },
     "execution_count": 3,
     "metadata": {},
     "output_type": "execute_result"
    }
   ],
   "source": [
    "y_train_pred_n.reshape(y_train_pred_n.shape[0],1).shape, y_train_pred_n.shape"
   ]
  },
  {
   "cell_type": "code",
   "execution_count": 5,
   "metadata": {},
   "outputs": [
    {
     "data": {
      "text/plain": [
       "[0.0012634490417757047,\n",
       " 5.97060744980939e-18,\n",
       " 1.0608864470373084e-31,\n",
       " 1.8384505899699775e-45,\n",
       " 3.01216084396374e-59,\n",
       " 5.920947689184445e-73,\n",
       " 1.1038903300987609e-86,\n",
       " 2.0246822789718246e-100,\n",
       " 3.746006312507234e-114,\n",
       " 7.547354698471565e-128]"
      ]
     },
     "execution_count": 5,
     "metadata": {},
     "output_type": "execute_result"
    }
   ],
   "source": [
    "model.model._costs"
   ]
  }
 ],
 "metadata": {
  "kernelspec": {
   "display_name": "Python 3",
   "language": "python",
   "name": "python3"
  },
  "language_info": {
   "codemirror_mode": {
    "name": "ipython",
    "version": 3
   },
   "file_extension": ".py",
   "mimetype": "text/x-python",
   "name": "python",
   "nbconvert_exporter": "python",
   "pygments_lexer": "ipython3",
   "version": "3.7.3"
  }
 },
 "nbformat": 4,
 "nbformat_minor": 2
}
