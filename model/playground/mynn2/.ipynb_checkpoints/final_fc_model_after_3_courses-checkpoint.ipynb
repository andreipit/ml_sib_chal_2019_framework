{
 "cells": [
  {
   "cell_type": "code",
   "execution_count": 1,
   "metadata": {},
   "outputs": [
    {
     "name": "stdout",
     "output_type": "stream",
     "text": [
      "x_train (2, 20) ; y_train = (4, 20)  x_val = (2, 20)  y_val = (4, 20)\n",
      "\n",
      " batch 1 X shape =  (2, 20) \n",
      " batch 1 Y shape =  (4, 20)\n"
     ]
    },
    {
     "data": {
      "text/plain": [
       "<Figure size 640x480 with 1 Axes>"
      ]
     },
     "metadata": {},
     "output_type": "display_data"
    },
    {
     "name": "stdout",
     "output_type": "stream",
     "text": [
      "train_accuracy 70.0\n",
      "val_accuracy 75.0 \n",
      "features_count 2\n",
      "1.2773158550262451s\n"
     ]
    }
   ],
   "source": [
    "#%load_ext memory_profiler\n",
    "#%memit\n",
    "\n",
    "import time\n",
    "import numpy as np\n",
    "import pandas as pd\n",
    "import matplotlib.pyplot as plt\n",
    "from sklearn.model_selection import ShuffleSplit\n",
    "\n",
    "from mylib.mylib_plot import plot_3d_one_vs_others,plot_costs, plot_boundary_2d_or_3d\n",
    "from mylib.mylib_core import random_mini_batches, gradient_checking, speed\n",
    "from mylib.mylib_data import generate_fruits_dataframes, read_fruits_dataframes_from_txt, df_to_inputs\n",
    "from mylib.mylib_model import my_l_layers_ffn\n",
    "tic = time.time()\n",
    "\n",
    "TARGET = 'fruit_label'\n",
    "#FEATURES_COLS = ['width','mass', 'color_score']\n",
    "FEATURES_COLS = ['mass', 'color_score']\n",
    "\n",
    "# CLASSES_COUNT = 4 # or 2 for 3d plot \n",
    "#train, test, val = read_fruits_dataframes_from_txt(CLASSES_COUNT) # 3 similar df: fruit_label\tmass\twidth\tcolor_score\n",
    "\n",
    "test      = pd.read_csv('datasets/test.csv',  delimiter='\\t')\n",
    "train_raw = pd.read_csv('datasets/train.csv', delimiter='\\t')\n",
    "for train_index, test_index in ShuffleSplit(n_splits=1, test_size=.5, random_state=0).split(train_raw):\n",
    "    train = train_raw.iloc[train_index,:]\n",
    "    val = train_raw.iloc[test_index,:]\n",
    "\n",
    "train = train[FEATURES_COLS + [TARGET]]\n",
    "val   =   val[FEATURES_COLS + [TARGET]]\n",
    "test  =  test[FEATURES_COLS]\n",
    "\n",
    "x_train, y_train, y_train_vec = df_to_inputs(train, TARGET)\n",
    "x_val,   y_val,   y_val_vec   = df_to_inputs(val,   TARGET) ;print('x_train',x_train.shape,'; y_train =',y_train.shape,' x_val =',x_val.shape,' y_val =',y_val.shape)\n",
    "x_test                        = test.values.T\n",
    "\n",
    "mini_batches = random_mini_batches(x_train, y_train , mini_batch_size=20) \n",
    "for i in range(len(mini_batches)): print('\\n batch 1 X shape = ', mini_batches[i][0].shape, '\\n batch 1 Y shape = ', mini_batches[i][1].shape)\n",
    "\n",
    "# recommendations: L2_lambd = 3 (2 feat) and 0.7 (3 feat)\n",
    "model = my_l_layers_ffn(\n",
    "        optimizer='adam', # adam # momentum, gd\n",
    "        DO_keep_prob=1, #  # 1 turns off Dropout (0.86 - AndrewNG)\n",
    "        L2_lambd=3, # 0 will turn off, 0.7 - changes from 90 degree plane to 20, 2.8 good\n",
    "        layers_dims=[x_train.shape[0],x_train.shape[0]*10,x_train.shape[0]*10,y_train.shape[0]], \n",
    "        num_epochs = 3000, # 20000\n",
    "        learning_rate = 0.003, \n",
    "        X=x_train, \n",
    "        Y=y_train, \n",
    "        mini_batches=mini_batches, \n",
    "        print_cost = False,  \n",
    "        activation = 'relu', \n",
    "        activation_l = 'softmax', \n",
    "        loss='log', \n",
    "        lr_decay_type='pop', # no, exp 0.95 or 0.01; pop 0.01\n",
    "        lr_decay_rate=0.01,  #  pop: more decay_rate, smaller learning rate (now can increase learning_rate), exp: more decay more lrate\n",
    "        wb_init_type='he', \n",
    "        wb_init_coef=0.009, # [0.9,0.09 for gd, 0.009 for adam] if all predictions == 1 => increse init_coef, if all==0 -> decrease\n",
    "        g_checking=False)\n",
    "model.fit()\n",
    "plot_costs(model)\n",
    "print('train_accuracy',model.score()); print('val_accuracy',model.score(x_val, y_val),'\\nfeatures_count',x_train.shape[0]); print(speed(tic)); \n",
    "#print('y_train_pred  ',list(model.predict(x_train)),'\\ny_train',list(y_train_vec),'\\ny_test_pred  ',list(model.predict(x_test)),'\\ny_val_pred  ',list(model.predict(x_val)),'\\ny_val',list(y_val_vec))\n",
    "\n",
    "plot_boundary_2d_or_3d(x_train, y_train_vec.ravel(), lambda x: model.predict(x), train, model, name_x='mass',name_y='width',name_z='color_score',name_pred='fruit_label',only_margin=True)\n",
    "\n",
    "\n",
    "#pd.Series(model.predict(x_test)).value_counts()\n",
    "#final_submission = pd.DataFrame({\"mass\":test[\"mass\"], \"color_score\":pd.Series(model.predict(x_test))})\n",
    "#final_submission.to_csv('../output/submission.csv', index=False)\n",
    "#final_submission.head()"
   ]
  },
  {
   "cell_type": "code",
   "execution_count": 2,
   "metadata": {},
   "outputs": [
    {
     "data": {
      "text/plain": [
       "[1.3868720717289278,\n",
       " 1.0272116927717958,\n",
       " 0.9917792917891952,\n",
       " 0.978355976759416,\n",
       " 0.9675716820610538,\n",
       " 0.9410594315875604,\n",
       " 0.9010898749556091,\n",
       " 0.8775665451403838,\n",
       " 0.8648928614311994,\n",
       " 0.8565105753084785]"
      ]
     },
     "execution_count": 2,
     "metadata": {},
     "output_type": "execute_result"
    }
   ],
   "source": [
    "model._costs"
   ]
  }
 ],
 "metadata": {
  "kernelspec": {
   "display_name": "Python 3",
   "language": "python",
   "name": "python3"
  },
  "language_info": {
   "codemirror_mode": {
    "name": "ipython",
    "version": 3
   },
   "file_extension": ".py",
   "mimetype": "text/x-python",
   "name": "python",
   "nbconvert_exporter": "python",
   "pygments_lexer": "ipython3",
   "version": "3.7.3"
  }
 },
 "nbformat": 4,
 "nbformat_minor": 2
}
