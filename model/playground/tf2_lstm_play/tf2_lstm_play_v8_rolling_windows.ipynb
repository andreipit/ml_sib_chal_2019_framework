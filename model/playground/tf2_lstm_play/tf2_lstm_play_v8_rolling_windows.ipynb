{
 "cells": [
  {
   "cell_type": "markdown",
   "metadata": {},
   "source": [
    "# Convert each value to array(window): this value and some next/previous\n",
    "# if not enough next/prev -> ignore element\n",
    "# returns smaller array -> expand arr before using this function"
   ]
  },
  {
   "cell_type": "code",
   "execution_count": 1,
   "metadata": {},
   "outputs": [],
   "source": [
    "import numpy as np\n",
    "\n",
    "def roll_arr_fwd_back1(arr, window_size, step=1, mode='back'):\n",
    "    data = []\n",
    "    for rowid in range(arr.shape[0]): # for in range(9): 0 1 ... 8\n",
    "        if mode=='back':\n",
    "            if rowid >= window_size-1: # if i=1, h_s=3 - not enough history; i=2 or 3 -> good\n",
    "                good_rowids = [el for el in range(rowid-window_size+1, rowid+1, step)] # i=2/h_s=3: (2-3+1,2+1,1); [v for v in range(0, 3, 1)] -> [0, 1, 2]\n",
    "                data.append(arr[good_rowids])\n",
    "        elif mode=='fwd':   \n",
    "            if rowid <= arr.shape[0]-window_size: # if 9 rows: i=7, t_s=2 - not enough history; i=2 or 3 -> good\n",
    "                good_rowids = [el for el in range(rowid, rowid+window_size, step)] # i=2/h_s=3: (2-3+1,2+1,1); [v for v in range(0, 3, 1)] -> [0, 1, 2]\n",
    "                data.append(arr[good_rowids]) #train_df.values[[0,1,2,3]] # get first 4 rows\n",
    "    return np.array(data)\n",
    "\n",
    "def roll_arr_same_size(arr, back_window, fwd_window, step=1, mode='back'):\n",
    "    data = []\n",
    "    #for rowid in range(arr.shape[0]): # for in range(9): 0 1 ... 8\n",
    "    for i in range(back_window-1,arr.shape[0]-fwd_window+1): # for in range(9): 0 1 ... 8\n",
    "        if mode=='back':\n",
    "            good_rowids = [el for el in range(i-back_window+1, i+1, step)] # i=2/h_s=3: (2-3+1,2+1,1); [v for v in range(0, 3, 1)] -> [0, 1, 2]\n",
    "            data.append(arr[good_rowids])\n",
    "        elif mode=='fwd':   \n",
    "            good_rowids = [el for el in range(i, i+fwd_window, step)] # i=2/h_s=3: (2-3+1,2+1,1); [v for v in range(0, 3, 1)] -> [0, 1, 2]\n",
    "            data.append(arr[good_rowids]) #train_df.values[[0,1,2,3]] # get first 4 rows\n",
    "    return np.array(data)\n",
    "\n",
    "def multivariate_data(dataset, target, start_index, end_index, history_size, target_size, step, single_step=False):\n",
    "    data = []; labels = []\n",
    "    start_index = start_index + history_size\n",
    "    if end_index is None: end_index = len(dataset) - target_size\n",
    "    for i in range(start_index, end_index):\n",
    "        indices = range(i-history_size, i, step)\n",
    "        data.append(dataset[indices])\n",
    "        if single_step: labels.append(target[i+target_size])\n",
    "        else: labels.append(target[i:i+target_size])\n",
    "    return np.array(data), np.array(labels)\n",
    "\n",
    "\n",
    "step = 1\n",
    "past_history = 3\n",
    "future_target = 2\n",
    "x_train = np.array([\n",
    "    [ 0,0.5],\n",
    "    [-1,1.5],\n",
    "    [-2,2.5],\n",
    "    [-3,3.5],\n",
    "    [-4,4.5],\n",
    "])\n",
    "y_train = np.array([\n",
    "    [0],\n",
    "    [1],\n",
    "    [2],\n",
    "    [3],\n",
    "    [4],\n",
    "])\n",
    "dataset = np.concatenate((y_train, x_train), axis=1)\n"
   ]
  },
  {
   "cell_type": "markdown",
   "metadata": {},
   "source": [
    "# tensorflow example"
   ]
  },
  {
   "cell_type": "code",
   "execution_count": 2,
   "metadata": {},
   "outputs": [
    {
     "data": {
      "text/plain": [
       "array([[[ 0. ,  0.5],\n",
       "        [-1. ,  1.5],\n",
       "        [-2. ,  2.5]],\n",
       "\n",
       "       [[-1. ,  1.5],\n",
       "        [-2. ,  2.5],\n",
       "        [-3. ,  3.5]]])"
      ]
     },
     "execution_count": 2,
     "metadata": {},
     "output_type": "execute_result"
    }
   ],
   "source": [
    "# X\n",
    "multivariate_data(x_train, y_train, 0, x_train.shape[0], past_history, future_target, 1)[0]\n"
   ]
  },
  {
   "cell_type": "code",
   "execution_count": 3,
   "metadata": {},
   "outputs": [
    {
     "data": {
      "text/plain": [
       "array([array([[3],\n",
       "       [4]]), array([[4]])], dtype=object)"
      ]
     },
     "execution_count": 3,
     "metadata": {},
     "output_type": "execute_result"
    }
   ],
   "source": [
    "# Y\n",
    "multivariate_data(x_train, y_train, 0, x_train.shape[0], past_history, future_target, 1)[1]\n"
   ]
  },
  {
   "cell_type": "markdown",
   "metadata": {},
   "source": [
    "# Different result size"
   ]
  },
  {
   "cell_type": "code",
   "execution_count": 4,
   "metadata": {},
   "outputs": [
    {
     "data": {
      "text/plain": [
       "array([[[ 0. ,  0.5],\n",
       "        [-1. ,  1.5],\n",
       "        [-2. ,  2.5]],\n",
       "\n",
       "       [[-1. ,  1.5],\n",
       "        [-2. ,  2.5],\n",
       "        [-3. ,  3.5]],\n",
       "\n",
       "       [[-2. ,  2.5],\n",
       "        [-3. ,  3.5],\n",
       "        [-4. ,  4.5]]])"
      ]
     },
     "execution_count": 4,
     "metadata": {},
     "output_type": "execute_result"
    }
   ],
   "source": [
    "roll_arr_fwd_back1(arr=x_train, window_size=past_history, step=step, mode='back')\n"
   ]
  },
  {
   "cell_type": "code",
   "execution_count": 5,
   "metadata": {},
   "outputs": [
    {
     "data": {
      "text/plain": [
       "array([[[0],\n",
       "        [1]],\n",
       "\n",
       "       [[1],\n",
       "        [2]],\n",
       "\n",
       "       [[2],\n",
       "        [3]],\n",
       "\n",
       "       [[3],\n",
       "        [4]]])"
      ]
     },
     "execution_count": 5,
     "metadata": {},
     "output_type": "execute_result"
    }
   ],
   "source": [
    "roll_arr_fwd_back1(arr=y_train, window_size=future_target, step=step, mode='fwd')\n"
   ]
  },
  {
   "cell_type": "markdown",
   "metadata": {},
   "source": [
    "# same result len"
   ]
  },
  {
   "cell_type": "code",
   "execution_count": 6,
   "metadata": {},
   "outputs": [
    {
     "data": {
      "text/plain": [
       "array([[[ 0. ,  0.5],\n",
       "        [-1. ,  1.5],\n",
       "        [-2. ,  2.5]],\n",
       "\n",
       "       [[-1. ,  1.5],\n",
       "        [-2. ,  2.5],\n",
       "        [-3. ,  3.5]]])"
      ]
     },
     "execution_count": 6,
     "metadata": {},
     "output_type": "execute_result"
    }
   ],
   "source": [
    "roll_arr_same_size(arr=x_train, back_window=past_history, fwd_window=future_target, step=step, mode='back')\n"
   ]
  },
  {
   "cell_type": "code",
   "execution_count": 7,
   "metadata": {},
   "outputs": [
    {
     "data": {
      "text/plain": [
       "array([[[2],\n",
       "        [3]],\n",
       "\n",
       "       [[3],\n",
       "        [4]]])"
      ]
     },
     "execution_count": 7,
     "metadata": {},
     "output_type": "execute_result"
    }
   ],
   "source": [
    "roll_arr_same_size(arr=y_train, back_window=past_history, fwd_window=future_target, step=step, mode='fwd')\n"
   ]
  }
 ],
 "metadata": {
  "kernelspec": {
   "display_name": "Python 3",
   "language": "python",
   "name": "python3"
  },
  "language_info": {
   "codemirror_mode": {
    "name": "ipython",
    "version": 3
   },
   "file_extension": ".py",
   "mimetype": "text/x-python",
   "name": "python",
   "nbconvert_exporter": "python",
   "pygments_lexer": "ipython3",
   "version": "3.7.3"
  }
 },
 "nbformat": 4,
 "nbformat_minor": 2
}
