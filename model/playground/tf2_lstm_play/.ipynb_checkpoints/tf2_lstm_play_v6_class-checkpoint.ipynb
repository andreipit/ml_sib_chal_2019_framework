{
 "cells": [
  {
   "cell_type": "code",
   "execution_count": 1,
   "metadata": {},
   "outputs": [
    {
     "name": "stdout",
     "output_type": "stream",
     "text": [
      "x_train (50, 2) y_train (50, 1) x_val (50, 2) y_val (50, 1) x_test (100, 2)\n",
      "x_train_n (50, 2) y_train_n (50, 1) x_val_n (50, 2) y_val_n (50, 1)\n"
     ]
    },
    {
     "name": "stderr",
     "output_type": "stream",
     "text": [
      "C:\\Users\\user01\\Desktop\\sibur-production\\model\\playground\\tf2_lstm_play\\utils.py:20: RuntimeWarning: invalid value encountered in true_divide\n",
      "  x_train_n = (x_train - center_x)/scale_x\n",
      "C:\\Users\\user01\\Desktop\\sibur-production\\model\\playground\\tf2_lstm_play\\utils.py:21: RuntimeWarning: invalid value encountered in true_divide\n",
      "  x_val_n   = (x_val   - center_x)/scale_x\n",
      "C:\\Users\\user01\\Desktop\\sibur-production\\model\\playground\\tf2_lstm_play\\utils.py:22: RuntimeWarning: invalid value encountered in true_divide\n",
      "  x_test_n  = (x_test  - center_x)/scale_x\n"
     ]
    }
   ],
   "source": [
    "DATALEN = 100#12#4000#000\n",
    "\n",
    "import utils_lstm as utils_lstm\n",
    "import matplotlib.pyplot as plt\n",
    "import pandas as pd\n",
    "import numpy as np\n",
    "import os,sys,inspect,pickle,json,time,datetime,re; root = os.path.dirname(os.path.dirname(os.path.abspath(inspect.getfile(inspect.currentframe()))))\n",
    "import random as rn\n",
    "import utils\n",
    "%matplotlib inline\n",
    "\n",
    "conf = json.load(open('config_zoo_play.json')) #conf = json.loads(config_lgb.replace(\"'\", \"\\\"\"))\n",
    "TARGET = 'activity'\n",
    "dates = pd.to_datetime(pd.date_range('2018-02-13', periods=DATALEN, freq='MIN', name='date'), errors='coerce') # freq='T'\n",
    "# col1 = np.array([np.sin(i/(DATALEN/40)) for i in range(1,(len(dates)+1))]) * 3 # np.random.randn(len(dates))\n",
    "# col2 = np.arange(len(dates)) * 1 # np.random.randn(len(dates))\n",
    "# col3 = np.array([np.sin(i/(DATALEN/8)) for i in range(1,(len(dates)+1))]) * 2 # np.random.randn(len(dates))\n",
    "# col4 = np.array([np.sin(i/(DATALEN/40)) for i in range(1,(len(dates)+1))]) * 2 # np.random.randn(len(dates))\n",
    "# train_data_orig = pd.DataFrame({'activity':col1,'col2':col2,'col3':col3,'col4':col4}, index=dates)\n",
    "col1 = np.arange(len(dates)) * 1\n",
    "col2 = -np.arange(len(dates))#np.array([3 for i in range(len(dates))])\n",
    "col3 = np.array([3 for i in range(len(dates))])\n",
    "\n",
    "train_data_orig = pd.DataFrame({'activity':col1,'col2':col2,'col3':col3}, index=dates)\n",
    "\n",
    "features_orig = train_data_orig.columns.tolist(); features_orig.remove(TARGET)\n",
    "train_data = train_data_orig#train_data_orig[FEATURES + [TARGET]] # most correlated with activity\n",
    "test_data = train_data_orig#test_data_orig[FEATURES] # most correlated with activity\n",
    "#test_data = test_data_orig # use it when features=Target\n",
    "\n",
    "FEATURES = features_orig\n",
    "\n",
    "if conf['datasize']=='min':\n",
    "    train = train_data[:10000]\n",
    "    val   = train_data[-10000:]\n",
    "elif conf['datasize']=='med':\n",
    "    #train = train_data[:\"2018-02-13 04:01:00\"]#[:\"2018-10-13 00:01:00\"]\n",
    "    #val   = train_data[\"2018-02-13 04:01:00\":]#[\"2018-10-14 03:01:00\":]\n",
    "    train = train_data[:DATALEN//2]\n",
    "    val   = train_data[DATALEN//2:]\n",
    "    #train = train_data[:DATALEN/2]\n",
    "    #val   = train_data[-DATALEN/2:]\n",
    "elif conf['datasize']=='max':\n",
    "    train = train_data\n",
    "    val   = train_data\n",
    "test  = test_data[FEATURES]\n",
    "\n",
    "x_train, x_val, x_test, y_train, y_val = utils.split_cols_np(train, val, test, TARGET) ;print('x_train',x_train.shape, 'y_train',y_train.shape, 'x_val',x_val.shape, 'y_val',y_val.shape, 'x_test',x_test.shape)\n",
    "x_train, x_val, x_test, y_train, y_val = x_train.astype('float64'), x_val.astype('float64'), x_test.astype('float64'), y_train.astype('float64'), y_val.astype('float64')\n",
    "x_train_n, x_val_n, x_test_n, y_train_n, y_val_n = utils.normalize_by_train(x_train, x_val, x_test, y_train, y_val, train, TARGET) ;print('x_train_n',x_train_n.shape, 'y_train_n',y_train_n.shape, 'x_val_n',x_val_n.shape, 'y_val_n', y_val_n.shape)\n",
    "#x_train_n, x_val_n, x_test_n, y_train_n, y_val_n = x_train, x_val, x_test, y_train, y_val\n",
    "\n",
    "def evaluate(y_train_pred_n, y_val_pred_n, y_test_pred_n, conf_i, submit=False):\n",
    "    # denormalize\n",
    "    y_train_pred, y_val_pred, y_test_pred = utils.denormalize_by_train(y_train_pred_n, y_val_pred_n, y_test_pred_n, train, TARGET)\n",
    "\n",
    "    # convert to pandas\n",
    "    y_train_pred_p = pd.Series(y_train_pred.flatten(), index=train.index, name=TARGET+\"_pred\").sort_index()\n",
    "    y_val_pred_p   = pd.Series(y_val_pred.flatten(),   index=val.index,   name=TARGET+\"_pred\").sort_index()\n",
    "    if submit: y_test_pred_p  = pd.DataFrame(y_test_pred, columns=[TARGET], index=extra_data1.index) # activity_test_target\n",
    "\n",
    "    # evaluate\n",
    "    def mape(y_true, y_pred): return 100 * np.mean(np.abs((y_pred-y_true)/y_true))\n",
    "    conf_i['score_train']= mape(train[TARGET].values, y_train_pred_p.values)\n",
    "    conf_i['score_val']  = mape(val[TARGET].values,   y_val_pred_p.values)\n",
    "\n",
    "    # submit\n",
    "    curr_time = re.sub(r'^(.*)-(.*)-(.*) (.*):(.*):(.*)\\.(.*)$',r'y\\1_\\2m_\\3d_\\4h_\\5min_\\6s_\\7_',str(datetime.datetime.now()))\n",
    "    if submit: y_test_pred_p.loc[test.index].to_csv(os.path.join('output',curr_time+mtype+'_sub.csv'))\n",
    "\n",
    "    # add log to log_model.csv file\n",
    "    log_file = 'log_'+mtype+'.csv'\n",
    "    log_df = pd.DataFrame([conf_i], index=[curr_time])\n",
    "    if log_file in os.listdir('output'): log_df = pd.read_csv(os.path.join('output', log_file), index_col=0).append(log_df)   \n",
    "    log_df.to_csv(os.path.join('output', log_file))\n",
    "    # add log to separate file\n",
    "    #pd.DataFrame([conf_i], index=[curr_time]).to_csv(os.path.join('output',curr_time+mtype+'_log.csv'))\n",
    "    return\n",
    "#evaluated(y_train_pred_n, y_val_pred_n, y_test_pred_n, conf['lgb'], submit=True)\n",
    "\n",
    "#train_data_orig.plot(subplots=True)\n"
   ]
  },
  {
   "cell_type": "code",
   "execution_count": 2,
   "metadata": {},
   "outputs": [
    {
     "name": "stdout",
     "output_type": "stream",
     "text": [
      "x_train_n (50, 2) y_train_n (50, 1) x_val_n (50, 2) y_val_n (50, 1)\n",
      "WARNING:tensorflow:From D:\\Programs\\x64\\Anaconda_3_2019_07\\lib\\site-packages\\tensorflow_core\\python\\data\\util\\random_seed.py:58: where (from tensorflow.python.ops.array_ops) is deprecated and will be removed in a future version.\n",
      "Instructions for updating:\n",
      "Use tf.where in 2.0, which has the same broadcast rule as np.where\n",
      "Train for 2 steps, validate for 1 steps\n",
      "2/2 [==============================] - 5s 3s/step - loss: 0.1855 - val_loss: 0.9972\n",
      "tf fit done\n"
     ]
    },
    {
     "name": "stderr",
     "output_type": "stream",
     "text": [
      "D:\\Programs\\x64\\Anaconda_3_2019_07\\lib\\site-packages\\ipykernel_launcher.py:63: RuntimeWarning: divide by zero encountered in true_divide\n"
     ]
    }
   ],
   "source": [
    "\n",
    "for mtype in conf['models'].split(','):\n",
    "    for conf_i in utils.split_model_config(conf[mtype]):\n",
    "        if mtype=='tf':\n",
    "            from train_tf import TrainTF\n",
    "            model = TrainTF(conf_i)\n",
    "        elif mtype=='lgb':\n",
    "            from train_lgb import TrainLGB\n",
    "            model = TrainLGB(conf_i)\n",
    "        elif mtype=='mynn':\n",
    "            from train_mynn import TrainMYNN\n",
    "            model = TrainMYNN(conf_i)\n",
    "        elif mtype=='tf_lstm':\n",
    "            from train_tf_lstm_play import TrainTFLSTM\n",
    "            model = TrainTFLSTM(conf_i)\n",
    "        print('x_train_n',x_train_n.shape, 'y_train_n',y_train_n.shape, 'x_val_n',x_val_n.shape, 'y_val_n', y_val_n.shape)\n",
    "        model.prepare_data(x_train_n, y_train_n, x_val_n, y_val_n)\n",
    "        model.compile(x_train.shape)\n",
    "        model.fit(x_train_n, y_train_n, x_val_n, y_val_n)\n",
    "        y_train_pred_n = model.predict(x_train_n) \n",
    "        y_val_pred_n   = model.predict(x_val_n) \n",
    "        y_test_pred_n  = model.predict(x_test_n) \n",
    "#         y_train_pred_n = None\n",
    "#         y_val_pred_n   = None\n",
    "#         y_test_pred_n = None\n",
    "        conf_i['history'] = model.get_costs() #model.history_callback\n",
    "        conf_i['datasize'] = conf['datasize']\n",
    "        conf_i['data'] = conf['data']\n",
    "        conf_i['rs_global'] = conf['rs']\n",
    "        conf_i['target'] = TARGET\n",
    "        conf_i['features'] = FEATURES\n",
    "        #conf_i['fegroup'] = fename\n",
    "        evaluate(y_train_pred_n, y_val_pred_n, y_test_pred_n, conf_i, submit=False)\n",
    "        #plot_costs(*model.get_costs())\n",
    "    "
   ]
  },
  {
   "cell_type": "code",
   "execution_count": null,
   "metadata": {},
   "outputs": [],
   "source": []
  },
  {
   "cell_type": "code",
   "execution_count": 3,
   "metadata": {},
   "outputs": [],
   "source": [
    "#for x, y in model.train_data_multi.take(1):\n",
    "#print('x=',x.shape) # (16, 7, 2) (batch_size, past_history, features_count_with_target)\n",
    "#print('y=',y.shape) # (16, 13) (batch_size, future_target)"
   ]
  },
  {
   "cell_type": "code",
   "execution_count": 4,
   "metadata": {},
   "outputs": [],
   "source": [
    "# for x, y in model.val_data_multi.take(1): # take one batch\n",
    "#     utils_lstm.multi_step_plot(x[0], y[0], model.model.predict(x)[0], model.conf['step'])\n",
    "#     print(model.model.predict(x)[0].shape)"
   ]
  },
  {
   "cell_type": "code",
   "execution_count": 5,
   "metadata": {},
   "outputs": [],
   "source": [
    "# for mtype in conf['models'].split(','):\n",
    "#     utils.plot_loss(mtype,3)\n",
    "# #utils.plot_loss('lgb')\n"
   ]
  },
  {
   "cell_type": "code",
   "execution_count": 6,
   "metadata": {},
   "outputs": [
    {
     "data": {
      "text/html": [
       "<div>\n",
       "<style scoped>\n",
       "    .dataframe tbody tr th:only-of-type {\n",
       "        vertical-align: middle;\n",
       "    }\n",
       "\n",
       "    .dataframe tbody tr th {\n",
       "        vertical-align: top;\n",
       "    }\n",
       "\n",
       "    .dataframe thead th {\n",
       "        text-align: right;\n",
       "    }\n",
       "</style>\n",
       "<table border=\"1\" class=\"dataframe\">\n",
       "  <thead>\n",
       "    <tr style=\"text-align: right;\">\n",
       "      <th></th>\n",
       "      <th>score_train</th>\n",
       "      <th>score_val</th>\n",
       "      <th>target</th>\n",
       "      <th>datasize</th>\n",
       "    </tr>\n",
       "  </thead>\n",
       "  <tbody>\n",
       "    <tr>\n",
       "      <th>y2019_11m_06d_21h_06min_47s_504785_</th>\n",
       "      <td>inf</td>\n",
       "      <td>65.900629</td>\n",
       "      <td>activity</td>\n",
       "      <td>med</td>\n",
       "    </tr>\n",
       "    <tr>\n",
       "      <th>y2019_11m_07d_11h_25min_47s_630754_</th>\n",
       "      <td>inf</td>\n",
       "      <td>65.900629</td>\n",
       "      <td>activity</td>\n",
       "      <td>med</td>\n",
       "    </tr>\n",
       "    <tr>\n",
       "      <th>y2019_11m_07d_12h_24min_45s_431697_</th>\n",
       "      <td>inf</td>\n",
       "      <td>65.900629</td>\n",
       "      <td>activity</td>\n",
       "      <td>med</td>\n",
       "    </tr>\n",
       "  </tbody>\n",
       "</table>\n",
       "</div>"
      ],
      "text/plain": [
       "                                     score_train  score_val    target datasize\n",
       "y2019_11m_06d_21h_06min_47s_504785_          inf  65.900629  activity      med\n",
       "y2019_11m_07d_11h_25min_47s_630754_          inf  65.900629  activity      med\n",
       "y2019_11m_07d_12h_24min_45s_431697_          inf  65.900629  activity      med"
      ]
     },
     "execution_count": 6,
     "metadata": {},
     "output_type": "execute_result"
    }
   ],
   "source": [
    "mtype = conf['models'].split(',')[0]\n",
    "result = pd.read_csv('output/log_'+mtype+'.csv', index_col=0)[['score_train','score_val','target','datasize']]\n",
    "result\n",
    "# mtype = 'tf'\n",
    "# pd.read_csv('output/log_'+mtype+'.csv', index_col=0)\n",
    "# #pd.read_csv('output/log_'+mtype+'.csv', index_col=0)[['score_train','score_val']+conf[mtype]['tune'].split(',')].sort_values(by=['score_val'])"
   ]
  }
 ],
 "metadata": {
  "kernelspec": {
   "display_name": "Python 3",
   "language": "python",
   "name": "python3"
  },
  "language_info": {
   "codemirror_mode": {
    "name": "ipython",
    "version": 3
   },
   "file_extension": ".py",
   "mimetype": "text/x-python",
   "name": "python",
   "nbconvert_exporter": "python",
   "pygments_lexer": "ipython3",
   "version": "3.7.3"
  }
 },
 "nbformat": 4,
 "nbformat_minor": 2
}
