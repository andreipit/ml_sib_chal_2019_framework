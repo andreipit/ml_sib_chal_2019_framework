{
 "cells": [
  {
   "cell_type": "code",
   "execution_count": 1,
   "metadata": {},
   "outputs": [
    {
     "name": "stdout",
     "output_type": "stream",
     "text": [
      "x_train_n (12, 3) x_val_n (12, 3) y_train_n (12, 1) y_val_n (12, 1)\n"
     ]
    }
   ],
   "source": [
    "\n",
    "import pandas as pd\n",
    "import numpy as np\n",
    "\n",
    "x_train_n = pd.DataFrame({'fruit_label':[0,    1,    0,    1,    0,    1,    0,    1,    0,    1,    0,    1], \n",
    "                      'mass':       [154,  260,  148,  218,  150,  142,  148,  316,  148,  148,  152,  198],\n",
    "                      'width':      [6.15, 7.55, 6.55, 7.05, 5.95, 5.97, 5.85, 8.52, 6.45, 6.08, 6.35, 6.87]}).values\n",
    "y_train_n = pd.DataFrame({'color_score':[35,   46,   34,   46,   27,   52,   28,   49,   28,   60,   28,   64]}).values\n",
    "\n",
    "\n",
    "x_val_n  = pd.DataFrame({'fruit_label':[0,    1,    0,    1,    0,    1,    0,    1,    0,    1,    0,    1], \n",
    "                      'mass':       [150,  120,  154,  148,  154,  196,  154,  164,  150,  142,  144,  262],\n",
    "                      'width':      [6.15, 5.53, 6.65, 6.17, 7.15, 6.48, 6.35, 5.93, 5.75, 6.08, 5.70, 7.58]}).values\n",
    "y_val_n = pd.DataFrame({'color_score':[24,   47,   31,   46,   42,   58,   27,   49,   19,   61,   26,   50]}).values\n",
    "\n",
    "\n",
    "print('x_train_n',x_train_n.shape, 'x_val_n',x_val_n.shape, 'y_train_n',y_train_n.shape, 'y_val_n',y_val_n.shape)\n"
   ]
  },
  {
   "cell_type": "code",
   "execution_count": 2,
   "metadata": {},
   "outputs": [
    {
     "name": "stdout",
     "output_type": "stream",
     "text": [
      "Train on 12 samples, validate on 12 samples\n",
      "Epoch 1/5\n",
      "12/12 [==============================] - 6s 466ms/sample - loss: 5683.1030 - val_loss: 4798.5903\n",
      "Epoch 2/5\n",
      "12/12 [==============================] - 0s 7ms/sample - loss: 5544.1147 - val_loss: 4687.4468\n",
      "Epoch 3/5\n",
      "12/12 [==============================] - 0s 1ms/sample - loss: 5406.8970 - val_loss: 4577.6753\n",
      "Epoch 4/5\n",
      "12/12 [==============================] - 0s 1ms/sample - loss: 5271.4805 - val_loss: 4469.2983\n",
      "Epoch 5/5\n",
      "12/12 [==============================] - 0s 1ms/sample - loss: 5137.8950 - val_loss: 4362.3408\n"
     ]
    },
    {
     "data": {
      "text/plain": [
       "array([[-23.196072],\n",
       "       [-38.81414 ],\n",
       "       [-22.296211],\n",
       "       [-32.4918  ],\n",
       "       [-22.592876],\n",
       "       [-21.05014 ],\n",
       "       [-22.291273],\n",
       "       [-47.24606 ],\n",
       "       [-22.295507],\n",
       "       [-21.953606],\n",
       "       [-22.896591],\n",
       "       [-29.48157 ]], dtype=float32)"
      ]
     },
     "execution_count": 2,
     "metadata": {},
     "output_type": "execute_result"
    }
   ],
   "source": [
    "import random as rn\n",
    "import tensorflow as tf\n",
    "from tensorflow import keras\n",
    "from tensorflow.keras import layers\n",
    "import numpy as np\n",
    "\n",
    "class TrainTF():\n",
    "    optimizer = None\n",
    "    model = None\n",
    "\n",
    "    def __init__(self, conf):\n",
    "        tf.random.set_seed(conf['rs'])\n",
    "\n",
    "        initial_learning_rate = 0.001\n",
    "        lr_schedule = tf.keras.optimizers.schedules.ExponentialDecay(\n",
    "            initial_learning_rate,\n",
    "            decay_steps=50,#100000,\n",
    "            decay_rate=0.96,\n",
    "            staircase=True)\n",
    "        self.optimizer = tf.keras.optimizers.Adam(learning_rate=lr_schedule)\n",
    "        #tf.keras.backend.clear_session()\n",
    "        #print('tf init done')\n",
    "        return\n",
    "\n",
    "    def compile(self, x_train_shape):\n",
    "        data_in = keras.Input(shape=(x_train_shape[1],), name=\"img_in\")\n",
    "        dense_1 = layers.Dense(32, activation=\"relu\")(data_in)\n",
    "        data_out = layers.Dense(1, activation=\"linear\")(dense_1)\n",
    "        self.model = keras.Model(data_in, data_out)\n",
    "        self.model.compile(optimizer=self.optimizer, loss='mse') # mae optimizer='adam'\n",
    "        #print('tf define done')\n",
    "        return\n",
    "\n",
    "    def fit(self, conf, x_train, y_train, x_val, y_val):\n",
    "        #tf.keras.backend.clear_session()\n",
    "        history_callback = self.model.fit(x_train,y_train,\n",
    "                  epochs=conf['epochs'],\n",
    "                  batch_size=conf['bs'],\n",
    "                  shuffle=False,\n",
    "                  validation_data=(x_val, y_val),\n",
    "                  callbacks=[keras.callbacks.EarlyStopping(patience=5)],\n",
    "                  verbose=1,\n",
    "                 )\n",
    "        #print('tf fit done')\n",
    "        return history_callback\n",
    "\n",
    "    def predict(self, x):\n",
    "        #print('tf predict done')\n",
    "        return self.model.predict(x)\n",
    "\n",
    "conf_i={'name': 'tf', 'tune': 'rs,epochs', 'rs': 2734, 'epochs': 5, 'bs': 1024}    \n",
    "model = TrainTF(conf_i)\n",
    "model.compile(x_train_n.shape)\n",
    "history_callback = model.fit(conf_i, x_train_n, y_train_n, x_val_n, y_val_n)\n",
    "\n",
    "loss_history = history_callback.history[\"loss\"]\n",
    "history_callback.history\n",
    "y_train_pred_n = model.predict(x_train_n) \n",
    "# y_val_pred_n   = model.predict(x_val_n) \n",
    "# #y_test_pred_n  = model.predict(x_test_n) \n",
    "# y_test_pred_n  = None\n",
    "\n",
    "#evaluate(y_train_pred_n, y_val_pred_n, y_test_pred_n, conf_i, submit=True)    \n",
    "y_train_pred_n"
   ]
  },
  {
   "cell_type": "code",
   "execution_count": 5,
   "metadata": {},
   "outputs": [
    {
     "data": {
      "text/plain": [
       "(12, 1)"
      ]
     },
     "execution_count": 5,
     "metadata": {},
     "output_type": "execute_result"
    }
   ],
   "source": [
    "y_train_pred_n.shape"
   ]
  },
  {
   "cell_type": "code",
   "execution_count": 3,
   "metadata": {},
   "outputs": [
    {
     "data": {
      "image/png": "[encoded data removed]",
      "text/plain": [
       "<Figure size 432x288 with 1 Axes>"
      ]
     },
     "metadata": {
      "needs_background": "light"
     },
     "output_type": "display_data"
    }
   ],
   "source": [
    "def plot_costs(ox, train_list, val_list):\n",
    "    import matplotlib.pyplot as plt\n",
    "    %matplotlib inline\n",
    "    plt.plot([x for x in range(1,conf_i['epochs']+1)], train_list); \n",
    "    plt.plot([x for x in range(1,conf_i['epochs']+1)], val_list); \n",
    "    plt.ylabel('cost'); \n",
    "    plt.xlabel('epochs'); \n",
    "    plt.title(\"Learning rate =\"); \n",
    "    plt.legend(['train','val'])\n",
    "    plt.show()  \n",
    "plot_costs(ox=[x for x in range(1,conf_i['epochs']+1)], train_list=history_callback.history[\"loss\"], val_list=history_callback.history[\"val_loss\"])\n"
   ]
  },
  {
   "cell_type": "code",
   "execution_count": null,
   "metadata": {},
   "outputs": [],
   "source": []
  }
 ],
 "metadata": {
  "kernelspec": {
   "display_name": "Python 3",
   "language": "python",
   "name": "python3"
  },
  "language_info": {
   "codemirror_mode": {
    "name": "ipython",
    "version": 3
   },
   "file_extension": ".py",
   "mimetype": "text/x-python",
   "name": "python",
   "nbconvert_exporter": "python",
   "pygments_lexer": "ipython3",
   "version": "3.7.3"
  }
 },
 "nbformat": 4,
 "nbformat_minor": 2
}
