{
 "cells": [
  {
   "cell_type": "code",
   "execution_count": 1,
   "metadata": {},
   "outputs": [
    {
     "name": "stdout",
     "output_type": "stream",
     "text": [
      "x_train_n (12, 3) x_val_n (12, 3) y_train_n (12, 1) y_val_n (12, 1)\n"
     ]
    }
   ],
   "source": [
    "\n",
    "import pandas as pd\n",
    "import numpy as np\n",
    "\n",
    "x_train_n = pd.DataFrame({'fruit_label':[0,    1,    0,    1,    0,    1,    0,    1,    0,    1,    0,    1], \n",
    "                      'mass':       [154,  260,  148,  218,  150,  142,  148,  316,  148,  148,  152,  198],\n",
    "                      'width':      [6.15, 7.55, 6.55, 7.05, 5.95, 5.97, 5.85, 8.52, 6.45, 6.08, 6.35, 6.87]}).values\n",
    "y_train_n = pd.DataFrame({'color_score':[35,   46,   34,   46,   27,   52,   28,   49,   28,   60,   28,   64]}).values\n",
    "\n",
    "\n",
    "x_val_n  = pd.DataFrame({'fruit_label':[0,    1,    0,    1,    0,    1,    0,    1,    0,    1,    0,    1], \n",
    "                      'mass':       [150,  120,  154,  148,  154,  196,  154,  164,  150,  142,  144,  262],\n",
    "                      'width':      [6.15, 5.53, 6.65, 6.17, 7.15, 6.48, 6.35, 5.93, 5.75, 6.08, 5.70, 7.58]}).values\n",
    "y_val_n = pd.DataFrame({'color_score':[24,   47,   31,   46,   42,   58,   27,   49,   19,   61,   26,   50]}).values\n",
    "\n",
    "\n",
    "print('x_train_n',x_train_n.shape, 'x_val_n',x_val_n.shape, 'y_train_n',y_train_n.shape, 'y_val_n',y_val_n.shape)\n"
   ]
  },
  {
   "cell_type": "code",
   "execution_count": 2,
   "metadata": {},
   "outputs": [
    {
     "name": "stdout",
     "output_type": "stream",
     "text": [
      "Training until validation scores don't improve for 2000 rounds\n",
      "Did not meet early stopping. Best iteration is:\n",
      "[1]\ttraining's mape: 1.19213\tvalid_1's mape: 1.36712\n",
      "{'training': OrderedDict([('mape', [1.1921285819762169, 1.1921285819762169, 1.1921285819762169])]), 'valid_1': OrderedDict([('mape', [1.3671220978571574, 1.3671220978571574, 1.3671220978571574])])}\n"
     ]
    }
   ],
   "source": [
    "import random as rn\n",
    "import lightgbm as lgb\n",
    "import numpy as np\n",
    "\n",
    "class TrainLGB():\n",
    "    model = None\n",
    "    conf = None\n",
    "    history_callback = None\n",
    "\n",
    "    def __init__(self, conf):\n",
    "        self.conf = conf\n",
    "        #print('lgb init done')\n",
    "        return\n",
    "\n",
    "    def compile(self, x_train_shape):\n",
    "        #print('lgb define done')\n",
    "        return\n",
    "\n",
    "    def fit(self, x_train, y_train, x_val, y_val):\n",
    "        lgb_train = lgb.Dataset(x_train, label=y_train.reshape(-1))\n",
    "        lgb_val = lgb.Dataset(x_val, label=y_val.reshape(-1))\n",
    "\n",
    "        evals_result = {}\n",
    "        c=self.conf\n",
    "        #params = {'metric':'mape', 'num_threads': -1, 'objective': 'regression', 'verbosity': 1} # rmse\n",
    "        params = {'lambda_l2':3,'metric':c['metric'], 'num_threads':c['num_threads'], 'objective': c['objective'], 'verbosity': c['verbosity'], 'is_training_metric': True,} # rmse\n",
    "        rounds = c['rounds']\n",
    "        # https://lightgbm.readthedocs.io/en/latest/pythonapi/lightgbm.train.html\n",
    "        self.model = lgb.train(\n",
    "            params = params, \n",
    "            #lgb_train, \n",
    "            train_set = lgb_train, \n",
    "            num_boost_round = rounds, \n",
    "            valid_sets = [lgb_train,lgb_val], \n",
    "            verbose_eval=c['verbose_eval'], \n",
    "            early_stopping_rounds=c['early_stopping_rounds'], \n",
    "            callbacks=[lgb.record_evaluation(evals_result)] #same -> evals_result=evals_result,\n",
    "            #callbacks=[lgb.print_evaluation(period=1, show_stdv=True)] #same -> evals_result=evals_result,\n",
    "        )\n",
    "        steps = self.model.best_iteration #print(f\"Best: {steps}\") #print('lgb fit done')\n",
    "        self.history_callback = evals_result\n",
    "        return\n",
    "\n",
    "    def predict(self, x):\n",
    "        #print('lgb predict done')\n",
    "        return self.model.predict(x)\n",
    "    \n",
    "    def get_costs(self):\n",
    "        ox_list = [x for x in range(1,self.conf['rounds']+1)]\n",
    "        oy_train_list = self.history_callback['training']['mape']\n",
    "        oy_train_list = list(np.array(oy_train_list, dtype=np.float32))\n",
    "        oy_val_list = self.history_callback['valid_1']['mape']\n",
    "        oy_val_list = list(np.array(oy_val_list, dtype=np.float32))\n",
    "        title = 'rounds='+str(self.conf['rounds'])\n",
    "        #title = str(self.conf)\n",
    "        return {'ox_list':ox_list, 'oy_train_list':oy_train_list, 'oy_val_list':oy_val_list, 'title':title}\n",
    "\n",
    " \n",
    "            \n",
    "\n",
    "conf_i = {\n",
    "        \"name\":\"lgb\",\n",
    "        \"tune\":\"rs,rounds\",\n",
    "        \"rs\":2734,\n",
    "        \"metric\":\"mape\", \n",
    "        \"num_threads\": -1, \n",
    "        \"objective\": \"regression\", \n",
    "        \"verbosity\": 1,\n",
    "        \"rounds\":3,\n",
    "        \"verbose_eval\":100,\n",
    "        \"early_stopping_rounds\":2000\n",
    "    }\n",
    "model = TrainLGB(conf_i)\n",
    "model.compile(x_train_n.shape)\n",
    "model.fit(x_train_n, y_train_n, x_val_n, y_val_n)\n",
    "\n",
    "print(model.history_callback)\n",
    "\n",
    "#final_model.feature_importance()\n",
    "#loss_history = history_callback.history[\"loss\"]\n",
    "#history_callback.history\n",
    "y_train_pred_n = model.predict(x_train_n) \n",
    "#model.model.evals_result_\n",
    "\n",
    "\n",
    "#history_callback['training']['mape']\n",
    "#type(model.get_costs()['oy_train_list'][0])\n",
    "#model.get_costs()\n",
    "#list(np.array(model.get_costs()['oy_train_list'], dtype=np.float32))"
   ]
  },
  {
   "cell_type": "code",
   "execution_count": 5,
   "metadata": {},
   "outputs": [
    {
     "data": {
      "text/plain": [
       "(12,)"
      ]
     },
     "execution_count": 5,
     "metadata": {},
     "output_type": "execute_result"
    }
   ],
   "source": [
    "y_train_pred_n.shape"
   ]
  },
  {
   "cell_type": "code",
   "execution_count": 4,
   "metadata": {},
   "outputs": [
    {
     "data": {
      "image/png": "[encoded data removed]",
      "text/plain": [
       "<Figure size 432x288 with 1 Axes>"
      ]
     },
     "metadata": {
      "needs_background": "light"
     },
     "output_type": "display_data"
    }
   ],
   "source": [
    "def plot_costs(ox, train_list, val_list, title):\n",
    "    import matplotlib.pyplot as plt\n",
    "    %matplotlib inline\n",
    "    plt.plot(ox, train_list); \n",
    "    plt.plot(ox, val_list); \n",
    "    plt.ylabel('cost'); \n",
    "    plt.xlabel('epochs'); \n",
    "    plt.title(title); \n",
    "    plt.legend(['train','val'])\n",
    "    plt.show()  \n",
    "#plot_costs(ox=[x for x in range(1,conf_i['epochs']+1)], train_list=history_callback.history[\"loss\"], val_list=history_callback.history[\"val_loss\"])\n",
    "#plot_costs(model.get_costs())\n",
    "#plot_costs([1,2,3],[1,2,3],[1,2,3],'tit')\n",
    "#plot_costs([1, 2, 3],[1.1921285, 1.1921285, 1.1921285],[1.1921285, 1.1921285, 1.1921285],'epochs=3')\n",
    "\n",
    "c = model.get_costs()\n",
    "plot_costs(c['ox_list'],c['oy_train_list'],c['oy_val_list'],c['title'])\n",
    "        \n",
    "    \n",
    "\n"
   ]
  },
  {
   "cell_type": "code",
   "execution_count": null,
   "metadata": {},
   "outputs": [],
   "source": []
  }
 ],
 "metadata": {
  "kernelspec": {
   "display_name": "Python 3",
   "language": "python",
   "name": "python3"
  },
  "language_info": {
   "codemirror_mode": {
    "name": "ipython",
    "version": 3
   },
   "file_extension": ".py",
   "mimetype": "text/x-python",
   "name": "python",
   "nbconvert_exporter": "python",
   "pygments_lexer": "ipython3",
   "version": "3.7.3"
  }
 },
 "nbformat": 4,
 "nbformat_minor": 2
}
