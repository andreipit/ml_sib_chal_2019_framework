{
 "cells": [
  {
   "cell_type": "code",
   "execution_count": 1,
   "metadata": {},
   "outputs": [
    {
     "name": "stdout",
     "output_type": "stream",
     "text": [
      "submitions are equal? True\n",
      "mape= 0.0\n"
     ]
    }
   ],
   "source": [
    "import pandas as pd\n",
    "import numpy as np\n",
    "\n",
    "#S8_3581.csv S8_2847\n",
    "sub_1 = pd.read_csv('S8_3581.csv', index_col=0, parse_dates=[\"date\"])\n",
    "sub_2 = pd.read_csv('y2019_11m_11d_03h_29min_26s_146093_lgb_sub.csv', index_col=0, parse_dates=[\"date\"])\n",
    "print('submitions are equal?',sub_1['activity'].equals(sub_2['activity']))\n",
    "def mape(y_true, y_pred): return 100 * np.mean(np.abs((y_pred-y_true)/y_true))\n",
    "print('mape=',mape(sub_1['activity'].values,   sub_2['activity'].values))\n",
    "\n",
    "\n"
   ]
  }
 ],
 "metadata": {
  "kernelspec": {
   "display_name": "Python 3",
   "language": "python",
   "name": "python3"
  },
  "language_info": {
   "codemirror_mode": {
    "name": "ipython",
    "version": 3
   },
   "file_extension": ".py",
   "mimetype": "text/x-python",
   "name": "python",
   "nbconvert_exporter": "python",
   "pygments_lexer": "ipython3",
   "version": "3.7.3"
  }
 },
 "nbformat": 4,
 "nbformat_minor": 2
}
