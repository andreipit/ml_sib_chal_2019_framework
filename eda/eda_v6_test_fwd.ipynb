{
 "cells": [
  {
   "cell_type": "code",
   "execution_count": 19,
   "metadata": {},
   "outputs": [
    {
     "name": "stdout",
     "output_type": "stream",
     "text": [
      "train_data (300737, 881) test_data (85891, 880) extra_data1 (85891, 0)\n",
      "2018-02-13 14:31:00 2018-12-31 22:07:00\n"
     ]
    },
    {
     "data": {
      "text/plain": [
       "'Расход ТЭА к R2, л/c'"
      ]
     },
     "execution_count": 19,
     "metadata": {},
     "output_type": "execute_result"
    }
   ],
   "source": [
    "import matplotlib.pyplot as plt\n",
    "import pandas as pd\n",
    "import numpy as np\n",
    "import os,sys,inspect,pickle,json,time,datetime,re; root = os.path.dirname(os.path.dirname(os.path.abspath(inspect.getfile(inspect.currentframe()))))\n",
    "import random as rn\n",
    "from pandas.plotting import register_matplotlib_converters\n",
    "register_matplotlib_converters()\n",
    "%matplotlib inline\n",
    "root\n",
    "\n",
    "TARGET = 'activity'\n",
    "DATA_DIR = 'activity-atactic'\n",
    "INPUT_FOLDER = 'v02_add55x5x3roll'#'v11_whole_year_noshift_noroll'#'v10_one_month_noshift'#v10_one_month_noshift 'v09_one_month'#'v02_add55x5x3roll' # 'v01_original_clean'##'v00_original'\n",
    "EXTRA_DATA1 = 'v00_original\\\\activity_test_timestamps.csv'\n",
    "\n",
    "# load\n",
    "train_data = pickle.load(open(os.path.join(root,'input',DATA_DIR,INPUT_FOLDER,'train.pkl'),\"rb\"))\n",
    "test_data  = pickle.load(open(os.path.join(root,'input',DATA_DIR,INPUT_FOLDER,'test.pkl'),\"rb\"))\n",
    "extra_data1 = pd.read_csv(os.path.join(root,'input',DATA_DIR,EXTRA_DATA1), index_col=\"date\", parse_dates=[\"date\"])\n",
    "print('train_data',train_data.shape, 'test_data',test_data.shape, 'extra_data1',extra_data1.shape)#, 'atactic_test_target',atactic_test_target.shape,time.time()-tic,'sec')\n",
    "ac_tags = pd.read_csv('activity_tags.csv',delimiter=';')\n",
    "def feat_desc(fname): desc = ac_tags[ac_tags.feature==fname][['description','units']].values[0]; return desc[0] + ', ' + desc[1]\n",
    "print(train_data.index[0], train_data.index[-1])\n",
    "feat_desc('f23')\n"
   ]
  },
  {
   "cell_type": "code",
   "execution_count": 41,
   "metadata": {},
   "outputs": [
    {
     "data": {
      "text/html": [
       "<div>\n",
       "<style scoped>\n",
       "    .dataframe tbody tr th:only-of-type {\n",
       "        vertical-align: middle;\n",
       "    }\n",
       "\n",
       "    .dataframe tbody tr th {\n",
       "        vertical-align: top;\n",
       "    }\n",
       "\n",
       "    .dataframe thead th {\n",
       "        text-align: right;\n",
       "    }\n",
       "</style>\n",
       "<table border=\"1\" class=\"dataframe\">\n",
       "  <thead>\n",
       "    <tr style=\"text-align: right;\">\n",
       "      <th></th>\n",
       "      <th>activity</th>\n",
       "    </tr>\n",
       "    <tr>\n",
       "      <th>date</th>\n",
       "      <th></th>\n",
       "    </tr>\n",
       "  </thead>\n",
       "  <tbody>\n",
       "    <tr>\n",
       "      <th>2019-01-01 06:30:00</th>\n",
       "      <td>39.121674</td>\n",
       "    </tr>\n",
       "    <tr>\n",
       "      <th>2019-01-01 06:31:00</th>\n",
       "      <td>39.043274</td>\n",
       "    </tr>\n",
       "    <tr>\n",
       "      <th>2019-01-01 06:32:00</th>\n",
       "      <td>38.376667</td>\n",
       "    </tr>\n",
       "    <tr>\n",
       "      <th>2019-01-01 06:33:00</th>\n",
       "      <td>38.239136</td>\n",
       "    </tr>\n",
       "    <tr>\n",
       "      <th>2019-01-01 06:34:00</th>\n",
       "      <td>38.010910</td>\n",
       "    </tr>\n",
       "    <tr>\n",
       "      <th>2019-01-01 06:35:00</th>\n",
       "      <td>38.288925</td>\n",
       "    </tr>\n",
       "    <tr>\n",
       "      <th>2019-01-01 06:36:00</th>\n",
       "      <td>37.514256</td>\n",
       "    </tr>\n",
       "    <tr>\n",
       "      <th>2019-01-01 06:37:00</th>\n",
       "      <td>37.820110</td>\n",
       "    </tr>\n",
       "    <tr>\n",
       "      <th>2019-01-01 06:38:00</th>\n",
       "      <td>38.145504</td>\n",
       "    </tr>\n",
       "    <tr>\n",
       "      <th>2019-01-01 06:39:00</th>\n",
       "      <td>38.615356</td>\n",
       "    </tr>\n",
       "    <tr>\n",
       "      <th>2019-01-01 06:40:00</th>\n",
       "      <td>38.590607</td>\n",
       "    </tr>\n",
       "    <tr>\n",
       "      <th>2019-01-01 06:41:00</th>\n",
       "      <td>38.449017</td>\n",
       "    </tr>\n",
       "    <tr>\n",
       "      <th>2019-01-01 06:42:00</th>\n",
       "      <td>38.152320</td>\n",
       "    </tr>\n",
       "    <tr>\n",
       "      <th>2019-01-01 06:43:00</th>\n",
       "      <td>38.177834</td>\n",
       "    </tr>\n",
       "    <tr>\n",
       "      <th>2019-01-01 06:44:00</th>\n",
       "      <td>38.369743</td>\n",
       "    </tr>\n",
       "    <tr>\n",
       "      <th>2019-01-01 06:45:00</th>\n",
       "      <td>39.398933</td>\n",
       "    </tr>\n",
       "    <tr>\n",
       "      <th>2019-01-01 06:46:00</th>\n",
       "      <td>40.886390</td>\n",
       "    </tr>\n",
       "    <tr>\n",
       "      <th>2019-01-01 06:47:00</th>\n",
       "      <td>39.075897</td>\n",
       "    </tr>\n",
       "    <tr>\n",
       "      <th>2019-01-01 06:48:00</th>\n",
       "      <td>37.644970</td>\n",
       "    </tr>\n",
       "    <tr>\n",
       "      <th>2019-01-01 06:49:00</th>\n",
       "      <td>34.110157</td>\n",
       "    </tr>\n",
       "    <tr>\n",
       "      <th>2019-01-01 06:50:00</th>\n",
       "      <td>39.916756</td>\n",
       "    </tr>\n",
       "    <tr>\n",
       "      <th>2019-01-01 06:51:00</th>\n",
       "      <td>39.922020</td>\n",
       "    </tr>\n",
       "    <tr>\n",
       "      <th>2019-01-01 06:52:00</th>\n",
       "      <td>40.841150</td>\n",
       "    </tr>\n",
       "    <tr>\n",
       "      <th>2019-01-01 06:53:00</th>\n",
       "      <td>40.374160</td>\n",
       "    </tr>\n",
       "    <tr>\n",
       "      <th>2019-01-01 06:54:00</th>\n",
       "      <td>39.168056</td>\n",
       "    </tr>\n",
       "    <tr>\n",
       "      <th>2019-01-01 06:55:00</th>\n",
       "      <td>38.813747</td>\n",
       "    </tr>\n",
       "    <tr>\n",
       "      <th>2019-01-01 06:56:00</th>\n",
       "      <td>39.213790</td>\n",
       "    </tr>\n",
       "    <tr>\n",
       "      <th>2019-01-01 06:57:00</th>\n",
       "      <td>38.565205</td>\n",
       "    </tr>\n",
       "    <tr>\n",
       "      <th>2019-01-01 06:58:00</th>\n",
       "      <td>38.382607</td>\n",
       "    </tr>\n",
       "    <tr>\n",
       "      <th>2019-01-01 06:59:00</th>\n",
       "      <td>38.146477</td>\n",
       "    </tr>\n",
       "    <tr>\n",
       "      <th>...</th>\n",
       "      <td>...</td>\n",
       "    </tr>\n",
       "    <tr>\n",
       "      <th>2019-03-14 05:31:00</th>\n",
       "      <td>38.611420</td>\n",
       "    </tr>\n",
       "    <tr>\n",
       "      <th>2019-03-14 05:32:00</th>\n",
       "      <td>38.854310</td>\n",
       "    </tr>\n",
       "    <tr>\n",
       "      <th>2019-03-14 05:33:00</th>\n",
       "      <td>38.952110</td>\n",
       "    </tr>\n",
       "    <tr>\n",
       "      <th>2019-03-14 05:34:00</th>\n",
       "      <td>38.974056</td>\n",
       "    </tr>\n",
       "    <tr>\n",
       "      <th>2019-03-14 05:35:00</th>\n",
       "      <td>39.055336</td>\n",
       "    </tr>\n",
       "    <tr>\n",
       "      <th>2019-03-14 05:36:00</th>\n",
       "      <td>38.942913</td>\n",
       "    </tr>\n",
       "    <tr>\n",
       "      <th>2019-03-14 05:37:00</th>\n",
       "      <td>38.846920</td>\n",
       "    </tr>\n",
       "    <tr>\n",
       "      <th>2019-03-14 05:38:00</th>\n",
       "      <td>39.881630</td>\n",
       "    </tr>\n",
       "    <tr>\n",
       "      <th>2019-03-14 05:39:00</th>\n",
       "      <td>39.214485</td>\n",
       "    </tr>\n",
       "    <tr>\n",
       "      <th>2019-03-14 05:40:00</th>\n",
       "      <td>38.752674</td>\n",
       "    </tr>\n",
       "    <tr>\n",
       "      <th>2019-03-14 05:41:00</th>\n",
       "      <td>38.707886</td>\n",
       "    </tr>\n",
       "    <tr>\n",
       "      <th>2019-03-14 05:42:00</th>\n",
       "      <td>38.505890</td>\n",
       "    </tr>\n",
       "    <tr>\n",
       "      <th>2019-03-14 05:43:00</th>\n",
       "      <td>38.413586</td>\n",
       "    </tr>\n",
       "    <tr>\n",
       "      <th>2019-03-14 05:44:00</th>\n",
       "      <td>38.053185</td>\n",
       "    </tr>\n",
       "    <tr>\n",
       "      <th>2019-03-14 05:45:00</th>\n",
       "      <td>37.925030</td>\n",
       "    </tr>\n",
       "    <tr>\n",
       "      <th>2019-03-14 05:46:00</th>\n",
       "      <td>38.030830</td>\n",
       "    </tr>\n",
       "    <tr>\n",
       "      <th>2019-03-14 05:47:00</th>\n",
       "      <td>38.143764</td>\n",
       "    </tr>\n",
       "    <tr>\n",
       "      <th>2019-03-14 05:48:00</th>\n",
       "      <td>38.337498</td>\n",
       "    </tr>\n",
       "    <tr>\n",
       "      <th>2019-03-14 05:49:00</th>\n",
       "      <td>38.345190</td>\n",
       "    </tr>\n",
       "    <tr>\n",
       "      <th>2019-03-14 05:50:00</th>\n",
       "      <td>37.849960</td>\n",
       "    </tr>\n",
       "    <tr>\n",
       "      <th>2019-03-14 05:51:00</th>\n",
       "      <td>37.934757</td>\n",
       "    </tr>\n",
       "    <tr>\n",
       "      <th>2019-03-14 05:52:00</th>\n",
       "      <td>37.909893</td>\n",
       "    </tr>\n",
       "    <tr>\n",
       "      <th>2019-03-14 05:53:00</th>\n",
       "      <td>37.762707</td>\n",
       "    </tr>\n",
       "    <tr>\n",
       "      <th>2019-03-14 05:54:00</th>\n",
       "      <td>37.666653</td>\n",
       "    </tr>\n",
       "    <tr>\n",
       "      <th>2019-03-14 05:55:00</th>\n",
       "      <td>37.688007</td>\n",
       "    </tr>\n",
       "    <tr>\n",
       "      <th>2019-03-14 05:56:00</th>\n",
       "      <td>37.505900</td>\n",
       "    </tr>\n",
       "    <tr>\n",
       "      <th>2019-03-14 05:57:00</th>\n",
       "      <td>37.359460</td>\n",
       "    </tr>\n",
       "    <tr>\n",
       "      <th>2019-03-14 05:58:00</th>\n",
       "      <td>37.340206</td>\n",
       "    </tr>\n",
       "    <tr>\n",
       "      <th>2019-03-14 05:59:00</th>\n",
       "      <td>37.315666</td>\n",
       "    </tr>\n",
       "    <tr>\n",
       "      <th>2019-03-14 06:00:00</th>\n",
       "      <td>37.424380</td>\n",
       "    </tr>\n",
       "  </tbody>\n",
       "</table>\n",
       "<p>85891 rows × 1 columns</p>\n",
       "</div>"
      ],
      "text/plain": [
       "                      activity\n",
       "date                          \n",
       "2019-01-01 06:30:00  39.121674\n",
       "2019-01-01 06:31:00  39.043274\n",
       "2019-01-01 06:32:00  38.376667\n",
       "2019-01-01 06:33:00  38.239136\n",
       "2019-01-01 06:34:00  38.010910\n",
       "2019-01-01 06:35:00  38.288925\n",
       "2019-01-01 06:36:00  37.514256\n",
       "2019-01-01 06:37:00  37.820110\n",
       "2019-01-01 06:38:00  38.145504\n",
       "2019-01-01 06:39:00  38.615356\n",
       "2019-01-01 06:40:00  38.590607\n",
       "2019-01-01 06:41:00  38.449017\n",
       "2019-01-01 06:42:00  38.152320\n",
       "2019-01-01 06:43:00  38.177834\n",
       "2019-01-01 06:44:00  38.369743\n",
       "2019-01-01 06:45:00  39.398933\n",
       "2019-01-01 06:46:00  40.886390\n",
       "2019-01-01 06:47:00  39.075897\n",
       "2019-01-01 06:48:00  37.644970\n",
       "2019-01-01 06:49:00  34.110157\n",
       "2019-01-01 06:50:00  39.916756\n",
       "2019-01-01 06:51:00  39.922020\n",
       "2019-01-01 06:52:00  40.841150\n",
       "2019-01-01 06:53:00  40.374160\n",
       "2019-01-01 06:54:00  39.168056\n",
       "2019-01-01 06:55:00  38.813747\n",
       "2019-01-01 06:56:00  39.213790\n",
       "2019-01-01 06:57:00  38.565205\n",
       "2019-01-01 06:58:00  38.382607\n",
       "2019-01-01 06:59:00  38.146477\n",
       "...                        ...\n",
       "2019-03-14 05:31:00  38.611420\n",
       "2019-03-14 05:32:00  38.854310\n",
       "2019-03-14 05:33:00  38.952110\n",
       "2019-03-14 05:34:00  38.974056\n",
       "2019-03-14 05:35:00  39.055336\n",
       "2019-03-14 05:36:00  38.942913\n",
       "2019-03-14 05:37:00  38.846920\n",
       "2019-03-14 05:38:00  39.881630\n",
       "2019-03-14 05:39:00  39.214485\n",
       "2019-03-14 05:40:00  38.752674\n",
       "2019-03-14 05:41:00  38.707886\n",
       "2019-03-14 05:42:00  38.505890\n",
       "2019-03-14 05:43:00  38.413586\n",
       "2019-03-14 05:44:00  38.053185\n",
       "2019-03-14 05:45:00  37.925030\n",
       "2019-03-14 05:46:00  38.030830\n",
       "2019-03-14 05:47:00  38.143764\n",
       "2019-03-14 05:48:00  38.337498\n",
       "2019-03-14 05:49:00  38.345190\n",
       "2019-03-14 05:50:00  37.849960\n",
       "2019-03-14 05:51:00  37.934757\n",
       "2019-03-14 05:52:00  37.909893\n",
       "2019-03-14 05:53:00  37.762707\n",
       "2019-03-14 05:54:00  37.666653\n",
       "2019-03-14 05:55:00  37.688007\n",
       "2019-03-14 05:56:00  37.505900\n",
       "2019-03-14 05:57:00  37.359460\n",
       "2019-03-14 05:58:00  37.340206\n",
       "2019-03-14 05:59:00  37.315666\n",
       "2019-03-14 06:00:00  37.424380\n",
       "\n",
       "[85891 rows x 1 columns]"
      ]
     },
     "execution_count": 41,
     "metadata": {},
     "output_type": "execute_result"
    }
   ],
   "source": [
    "y_test_pseudo.shift(6, freq=\"H\")"
   ]
  },
  {
   "cell_type": "code",
   "execution_count": 20,
   "metadata": {},
   "outputs": [
    {
     "data": {
      "text/plain": [
       "<matplotlib.axes._subplots.AxesSubplot at 0x21ee0b50e80>"
      ]
     },
     "execution_count": 20,
     "metadata": {},
     "output_type": "execute_result"
    },
    {
     "data": {
      "image/png": "[encoded data removed]",
      "text/plain": [
       "<Figure size 432x288 with 1 Axes>"
      ]
     },
     "metadata": {
      "needs_background": "light"
     },
     "output_type": "display_data"
    }
   ],
   "source": [
    "y_test_pseudo = pd.read_csv('fwdroll_year_y2019_11m_15d_00h_50min_12s_975046_xgb_sub.csv', index_col=\"date\", parse_dates=[\"date\"])\n",
    "y_test_pseudo.plot()"
   ]
  },
  {
   "cell_type": "code",
   "execution_count": 3,
   "metadata": {},
   "outputs": [],
   "source": [
    "test_data['activity'] = y_test_pseudo['activity'] #.shift(6, freq=\"H\")"
   ]
  },
  {
   "cell_type": "code",
   "execution_count": 4,
   "metadata": {},
   "outputs": [
    {
     "data": {
      "text/plain": [
       "<matplotlib.axes._subplots.AxesSubplot at 0x21edd308128>"
      ]
     },
     "execution_count": 4,
     "metadata": {},
     "output_type": "execute_result"
    },
    {
     "data": {
      "image/png": "[encoded data removed]",
      "text/plain": [
       "<Figure size 432x288 with 1 Axes>"
      ]
     },
     "metadata": {
      "needs_background": "light"
     },
     "output_type": "display_data"
    }
   ],
   "source": [
    "test_data['activity'].plot()"
   ]
  },
  {
   "cell_type": "code",
   "execution_count": 5,
   "metadata": {},
   "outputs": [
    {
     "data": {
      "text/plain": [
       "<matplotlib.legend.Legend at 0x21edf41d518>"
      ]
     },
     "execution_count": 5,
     "metadata": {},
     "output_type": "execute_result"
    },
    {
     "data": {
      "image/png": "[encoded data removed]",
      "text/plain": [
       "<Figure size 432x288 with 1 Axes>"
      ]
     },
     "metadata": {
      "needs_background": "light"
     },
     "output_type": "display_data"
    }
   ],
   "source": [
    "start = '2019-02-11 00:05:00'\n",
    "end = '2019-02-11 13:05:00'\n",
    "test_data['activity'][start:end].plot()\n",
    "(test_data['f53'][start:end]/1000 + 30).plot()#figsize=(10,4))\n",
    "(test_data['f54'][start:end]/1000 + 30).plot()#figsize=(10,4))\n",
    "(test_data['f55'][start:end]/1000 + 30).plot()#figsize=(10,4))\n",
    "(test_data[['f53','f54','f55']].max(axis=1)/1000 + 50)[start:end].plot()\n",
    "\n",
    "plt.legend()"
   ]
  },
  {
   "cell_type": "code",
   "execution_count": 6,
   "metadata": {},
   "outputs": [
    {
     "data": {
      "text/plain": [
       "(85891, 881)"
      ]
     },
     "execution_count": 6,
     "metadata": {},
     "output_type": "execute_result"
    }
   ],
   "source": [
    "test_data.shape"
   ]
  },
  {
   "cell_type": "code",
   "execution_count": 7,
   "metadata": {},
   "outputs": [],
   "source": [
    "def normalize_by_train(x_train, x_val, x_test, y_train, y_val, train, TARGET, USE_TEST):\n",
    "    import numpy as np\n",
    "    # normalize\n",
    "    #center, scale = train.iloc[:, 1:].mean().values, train.iloc[:, 1:].std().values\n",
    "    center_x, scale_x = train.drop(TARGET, axis=1, inplace=False).mean().values, train.drop(TARGET, axis=1, inplace=False).std().values\n",
    "    center_y, scale_y = train[TARGET].mean(), train[TARGET].std()\n",
    "    x_train_n = (x_train - center_x)/scale_x\n",
    "    x_val_n   = (x_val   - center_x)/scale_x\n",
    "    x_test_n  = (x_test  - center_x)/scale_x if USE_TEST else np.array([])\n",
    "    y_train_n = (y_train - center_y)/scale_y\n",
    "    y_val_n   = (y_val   - center_y)/scale_y\n",
    "    #print('x_train_n',x_train_n.shape, 'y_train_n',y_train_n.shape, 'x_val_n',x_val_n.shape, 'y_val_n', y_val_n.shape)\n",
    "    return x_train_n, x_val_n, x_test_n, y_train_n, y_val_n\n"
   ]
  },
  {
   "cell_type": "code",
   "execution_count": 11,
   "metadata": {},
   "outputs": [
    {
     "name": "stdout",
     "output_type": "stream",
     "text": [
      "(300737, 881) (880,) (880,)\n"
     ]
    }
   ],
   "source": [
    "train = train_data\n",
    "center_x, scale_x = train.drop(TARGET, axis=1, inplace=False).mean().values, train.drop(TARGET, axis=1, inplace=False).std().values\n",
    "print(train.shape, center_x.shape, scale_x.shape )"
   ]
  },
  {
   "cell_type": "code",
   "execution_count": 16,
   "metadata": {},
   "outputs": [
    {
     "data": {
      "text/plain": [
       "5"
      ]
     },
     "execution_count": 16,
     "metadata": {},
     "output_type": "execute_result"
    }
   ],
   "source": []
  },
  {
   "cell_type": "code",
   "execution_count": 18,
   "metadata": {},
   "outputs": [
    {
     "data": {
      "text/plain": [
       "(0.001697737021078613, 0.00012743526295296855)"
      ]
     },
     "execution_count": 18,
     "metadata": {},
     "output_type": "execute_result"
    }
   ],
   "source": [
    "# f4 = 5 column\n",
    "center_x[train.columns.tolist().index('f4')], scale_x[train.columns.tolist().index('f4')]"
   ]
  },
  {
   "cell_type": "code",
   "execution_count": 36,
   "metadata": {},
   "outputs": [
    {
     "data": {
      "text/html": [
       "<div>\n",
       "<style scoped>\n",
       "    .dataframe tbody tr th:only-of-type {\n",
       "        vertical-align: middle;\n",
       "    }\n",
       "\n",
       "    .dataframe tbody tr th {\n",
       "        vertical-align: top;\n",
       "    }\n",
       "\n",
       "    .dataframe thead th {\n",
       "        text-align: right;\n",
       "    }\n",
       "</style>\n",
       "<table border=\"1\" class=\"dataframe\">\n",
       "  <thead>\n",
       "    <tr style=\"text-align: right;\">\n",
       "      <th></th>\n",
       "      <th>Val</th>\n",
       "    </tr>\n",
       "    <tr>\n",
       "      <th>Date</th>\n",
       "      <th></th>\n",
       "    </tr>\n",
       "  </thead>\n",
       "  <tbody>\n",
       "    <tr>\n",
       "      <th>2018-02-13 08:30:00</th>\n",
       "      <td>2.578057</td>\n",
       "    </tr>\n",
       "    <tr>\n",
       "      <th>2018-02-13 09:31:00</th>\n",
       "      <td>1.322240</td>\n",
       "    </tr>\n",
       "    <tr>\n",
       "      <th>2018-02-13 10:32:00</th>\n",
       "      <td>0.467845</td>\n",
       "    </tr>\n",
       "    <tr>\n",
       "      <th>2018-02-13 11:33:00</th>\n",
       "      <td>1.123305</td>\n",
       "    </tr>\n",
       "    <tr>\n",
       "      <th>2018-02-13 12:34:00</th>\n",
       "      <td>-1.608443</td>\n",
       "    </tr>\n",
       "  </tbody>\n",
       "</table>\n",
       "</div>"
      ],
      "text/plain": [
       "                          Val\n",
       "Date                         \n",
       "2018-02-13 08:30:00  2.578057\n",
       "2018-02-13 09:31:00  1.322240\n",
       "2018-02-13 10:32:00  0.467845\n",
       "2018-02-13 11:33:00  1.123305\n",
       "2018-02-13 12:34:00 -1.608443"
      ]
     },
     "execution_count": 36,
     "metadata": {},
     "output_type": "execute_result"
    }
   ],
   "source": [
    "import pandas as pd\n",
    "import numpy as np\n",
    "df = pd.DataFrame([['2018-02-13 08:30:00'], ['2018-02-13 09:31:00'], ['2018-02-13 10:32:00'], ['2018-02-13 11:33:00'], ['2018-02-13 12:34:00']], columns=['Date'])\n",
    "df['Val'] = np.random.randn(len(df))\n",
    "df['Date'] = pd.to_datetime(df['Date'], errors='coerce')\n",
    "df.index = df['Date']\n",
    "df = df.drop(columns=['Date'])\n",
    "df1=df\n",
    "df1"
   ]
  },
  {
   "cell_type": "code",
   "execution_count": 37,
   "metadata": {},
   "outputs": [
    {
     "data": {
      "text/html": [
       "<div>\n",
       "<style scoped>\n",
       "    .dataframe tbody tr th:only-of-type {\n",
       "        vertical-align: middle;\n",
       "    }\n",
       "\n",
       "    .dataframe tbody tr th {\n",
       "        vertical-align: top;\n",
       "    }\n",
       "\n",
       "    .dataframe thead th {\n",
       "        text-align: right;\n",
       "    }\n",
       "</style>\n",
       "<table border=\"1\" class=\"dataframe\">\n",
       "  <thead>\n",
       "    <tr style=\"text-align: right;\">\n",
       "      <th></th>\n",
       "      <th>Val</th>\n",
       "    </tr>\n",
       "    <tr>\n",
       "      <th>Date</th>\n",
       "      <th></th>\n",
       "    </tr>\n",
       "  </thead>\n",
       "  <tbody>\n",
       "    <tr>\n",
       "      <th>2018-02-13 10:30:00</th>\n",
       "      <td>2.578057</td>\n",
       "    </tr>\n",
       "    <tr>\n",
       "      <th>2018-02-13 11:31:00</th>\n",
       "      <td>1.322240</td>\n",
       "    </tr>\n",
       "    <tr>\n",
       "      <th>2018-02-13 12:32:00</th>\n",
       "      <td>0.467845</td>\n",
       "    </tr>\n",
       "    <tr>\n",
       "      <th>2018-02-13 13:33:00</th>\n",
       "      <td>1.123305</td>\n",
       "    </tr>\n",
       "    <tr>\n",
       "      <th>2018-02-13 14:34:00</th>\n",
       "      <td>-1.608443</td>\n",
       "    </tr>\n",
       "  </tbody>\n",
       "</table>\n",
       "</div>"
      ],
      "text/plain": [
       "                          Val\n",
       "Date                         \n",
       "2018-02-13 10:30:00  2.578057\n",
       "2018-02-13 11:31:00  1.322240\n",
       "2018-02-13 12:32:00  0.467845\n",
       "2018-02-13 13:33:00  1.123305\n",
       "2018-02-13 14:34:00 -1.608443"
      ]
     },
     "execution_count": 37,
     "metadata": {},
     "output_type": "execute_result"
    }
   ],
   "source": [
    "df1_s = df1.shift(2, freq=\"H\")\n",
    "df1_s"
   ]
  },
  {
   "cell_type": "code",
   "execution_count": 48,
   "metadata": {},
   "outputs": [
    {
     "data": {
      "text/html": [
       "<div>\n",
       "<style scoped>\n",
       "    .dataframe tbody tr th:only-of-type {\n",
       "        vertical-align: middle;\n",
       "    }\n",
       "\n",
       "    .dataframe tbody tr th {\n",
       "        vertical-align: top;\n",
       "    }\n",
       "\n",
       "    .dataframe thead th {\n",
       "        text-align: right;\n",
       "    }\n",
       "</style>\n",
       "<table border=\"1\" class=\"dataframe\">\n",
       "  <thead>\n",
       "    <tr style=\"text-align: right;\">\n",
       "      <th></th>\n",
       "      <th>Val_caller</th>\n",
       "      <th>Val_other</th>\n",
       "    </tr>\n",
       "    <tr>\n",
       "      <th>Date</th>\n",
       "      <th></th>\n",
       "      <th></th>\n",
       "    </tr>\n",
       "  </thead>\n",
       "  <tbody>\n",
       "    <tr>\n",
       "      <th>2018-02-13 08:30:00</th>\n",
       "      <td>2.578057</td>\n",
       "      <td>NaN</td>\n",
       "    </tr>\n",
       "    <tr>\n",
       "      <th>2018-02-13 09:31:00</th>\n",
       "      <td>1.322240</td>\n",
       "      <td>NaN</td>\n",
       "    </tr>\n",
       "    <tr>\n",
       "      <th>2018-02-13 10:32:00</th>\n",
       "      <td>0.467845</td>\n",
       "      <td>NaN</td>\n",
       "    </tr>\n",
       "    <tr>\n",
       "      <th>2018-02-13 11:33:00</th>\n",
       "      <td>1.123305</td>\n",
       "      <td>NaN</td>\n",
       "    </tr>\n",
       "    <tr>\n",
       "      <th>2018-02-13 12:34:00</th>\n",
       "      <td>-1.608443</td>\n",
       "      <td>NaN</td>\n",
       "    </tr>\n",
       "    <tr>\n",
       "      <th>2018-02-13 10:30:00</th>\n",
       "      <td>NaN</td>\n",
       "      <td>2.578057</td>\n",
       "    </tr>\n",
       "    <tr>\n",
       "      <th>2018-02-13 11:31:00</th>\n",
       "      <td>NaN</td>\n",
       "      <td>1.322240</td>\n",
       "    </tr>\n",
       "    <tr>\n",
       "      <th>2018-02-13 12:32:00</th>\n",
       "      <td>NaN</td>\n",
       "      <td>0.467845</td>\n",
       "    </tr>\n",
       "    <tr>\n",
       "      <th>2018-02-13 13:33:00</th>\n",
       "      <td>NaN</td>\n",
       "      <td>1.123305</td>\n",
       "    </tr>\n",
       "    <tr>\n",
       "      <th>2018-02-13 14:34:00</th>\n",
       "      <td>NaN</td>\n",
       "      <td>-1.608443</td>\n",
       "    </tr>\n",
       "  </tbody>\n",
       "</table>\n",
       "</div>"
      ],
      "text/plain": [
       "                     Val_caller  Val_other\n",
       "Date                                      \n",
       "2018-02-13 08:30:00    2.578057        NaN\n",
       "2018-02-13 09:31:00    1.322240        NaN\n",
       "2018-02-13 10:32:00    0.467845        NaN\n",
       "2018-02-13 11:33:00    1.123305        NaN\n",
       "2018-02-13 12:34:00   -1.608443        NaN\n",
       "2018-02-13 10:30:00         NaN   2.578057\n",
       "2018-02-13 11:31:00         NaN   1.322240\n",
       "2018-02-13 12:32:00         NaN   0.467845\n",
       "2018-02-13 13:33:00         NaN   1.123305\n",
       "2018-02-13 14:34:00         NaN  -1.608443"
      ]
     },
     "execution_count": 48,
     "metadata": {},
     "output_type": "execute_result"
    }
   ],
   "source": [
    "#res = df1_s[ df1.index == df1_s.index]\n",
    "#df1.index == df1_s.index\n",
    "df1.join(df1_s, on='Date',lsuffix='_caller', rsuffix='_other',how = 'outer')#{‘left’, ‘right’, ‘outer’, ‘inner’})"
   ]
  },
  {
   "cell_type": "code",
   "execution_count": null,
   "metadata": {},
   "outputs": [],
   "source": []
  },
  {
   "cell_type": "code",
   "execution_count": 26,
   "metadata": {},
   "outputs": [
    {
     "data": {
      "text/html": [
       "<div>\n",
       "<style scoped>\n",
       "    .dataframe tbody tr th:only-of-type {\n",
       "        vertical-align: middle;\n",
       "    }\n",
       "\n",
       "    .dataframe tbody tr th {\n",
       "        vertical-align: top;\n",
       "    }\n",
       "\n",
       "    .dataframe thead th {\n",
       "        text-align: right;\n",
       "    }\n",
       "</style>\n",
       "<table border=\"1\" class=\"dataframe\">\n",
       "  <thead>\n",
       "    <tr style=\"text-align: right;\">\n",
       "      <th></th>\n",
       "      <th>Val</th>\n",
       "    </tr>\n",
       "    <tr>\n",
       "      <th>Date</th>\n",
       "      <th></th>\n",
       "    </tr>\n",
       "  </thead>\n",
       "  <tbody>\n",
       "    <tr>\n",
       "      <th>2018-02-13 08:30:00</th>\n",
       "      <td>1.343433</td>\n",
       "    </tr>\n",
       "    <tr>\n",
       "      <th>2018-02-13 09:31:00</th>\n",
       "      <td>1.733114</td>\n",
       "    </tr>\n",
       "    <tr>\n",
       "      <th>2018-02-13 10:32:00</th>\n",
       "      <td>0.396023</td>\n",
       "    </tr>\n",
       "    <tr>\n",
       "      <th>2018-02-13 11:33:00</th>\n",
       "      <td>0.712307</td>\n",
       "    </tr>\n",
       "    <tr>\n",
       "      <th>2018-02-13 12:34:00</th>\n",
       "      <td>0.675816</td>\n",
       "    </tr>\n",
       "  </tbody>\n",
       "</table>\n",
       "</div>"
      ],
      "text/plain": [
       "                          Val\n",
       "Date                         \n",
       "2018-02-13 08:30:00  1.343433\n",
       "2018-02-13 09:31:00  1.733114\n",
       "2018-02-13 10:32:00  0.396023\n",
       "2018-02-13 11:33:00  0.712307\n",
       "2018-02-13 12:34:00  0.675816"
      ]
     },
     "execution_count": 26,
     "metadata": {},
     "output_type": "execute_result"
    }
   ],
   "source": [
    "df = pd.DataFrame([['2018-02-13 08:30:00'], ['2018-02-13 09:31:00'], ['2018-02-13 10:32:00'], ['2018-02-13 11:33:00'], ['2018-02-13 12:34:00']], columns=['Date'])\n",
    "df['Val'] = np.random.randn(len(df))\n",
    "df['Date'] = pd.to_datetime(df['Date'], errors='coerce')\n",
    "df.index = df['Date']\n",
    "df = df.drop(columns=['Date'])\n",
    "df2=df\n",
    "df2"
   ]
  },
  {
   "cell_type": "code",
   "execution_count": 27,
   "metadata": {},
   "outputs": [
    {
     "data": {
      "text/plain": [
       "DatetimeIndex(['2018-02-13 12:32:00', '2018-02-13 13:33:00',\n",
       "               '2018-02-13 14:34:00'],\n",
       "              dtype='datetime64[ns]', name='Date', freq='61T')"
      ]
     },
     "execution_count": 27,
     "metadata": {},
     "output_type": "execute_result"
    }
   ],
   "source": [
    "df3 = df1_s[ df2.index >= df1_s.index[0]]\n",
    "\n",
    "df3.index "
   ]
  },
  {
   "cell_type": "code",
   "execution_count": null,
   "metadata": {},
   "outputs": [],
   "source": []
  },
  {
   "cell_type": "code",
   "execution_count": 50,
   "metadata": {},
   "outputs": [
    {
     "data": {
      "text/plain": [
       "[('a', 'c'), ('a', 'd'), ('b', 'c'), ('b', 'd')]"
      ]
     },
     "execution_count": 50,
     "metadata": {},
     "output_type": "execute_result"
    }
   ],
   "source": [
    "import itertools\n",
    "\n",
    "list_of_lists = [['a','b'],['c','d']]\n",
    "list(itertools.product(*list_of_lists))"
   ]
  }
 ],
 "metadata": {
  "kernelspec": {
   "display_name": "Python 3",
   "language": "python",
   "name": "python3"
  },
  "language_info": {
   "codemirror_mode": {
    "name": "ipython",
    "version": 3
   },
   "file_extension": ".py",
   "mimetype": "text/x-python",
   "name": "python",
   "nbconvert_exporter": "python",
   "pygments_lexer": "ipython3",
   "version": "3.7.3"
  }
 },
 "nbformat": 4,
 "nbformat_minor": 2
}
