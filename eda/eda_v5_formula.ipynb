{
 "cells": [
  {
   "cell_type": "code",
   "execution_count": 1,
   "metadata": {},
   "outputs": [
    {
     "name": "stdout",
     "output_type": "stream",
     "text": [
      "train_data (300737, 881) test_data (85891, 880) extra_data1 (85891, 0)\n",
      "2018-02-13 14:31:00 2018-12-31 22:07:00\n"
     ]
    },
    {
     "data": {
      "text/plain": [
       "'Расход ТЭА к R2, л/c'"
      ]
     },
     "execution_count": 1,
     "metadata": {},
     "output_type": "execute_result"
    }
   ],
   "source": [
    "import matplotlib.pyplot as plt\n",
    "import pandas as pd\n",
    "import numpy as np\n",
    "import os,sys,inspect,pickle,json,time,datetime,re; root = os.path.dirname(os.path.dirname(os.path.abspath(inspect.getfile(inspect.currentframe()))))\n",
    "import random as rn\n",
    "from pandas.plotting import register_matplotlib_converters\n",
    "register_matplotlib_converters()\n",
    "%matplotlib inline\n",
    "root\n",
    "\n",
    "TARGET = 'activity'\n",
    "DATA_DIR = 'activity-atactic'\n",
    "INPUT_FOLDER = 'v02_add55x5x3roll'#'v11_whole_year_noshift_noroll'#'v10_one_month_noshift'#v10_one_month_noshift 'v09_one_month'#'v02_add55x5x3roll' # 'v01_original_clean'##'v00_original'\n",
    "EXTRA_DATA1 = 'v00_original\\\\activity_test_timestamps.csv'\n",
    "\n",
    "# load\n",
    "train_data = pickle.load(open(os.path.join(root,'input',DATA_DIR,INPUT_FOLDER,'train.pkl'),\"rb\"))\n",
    "test_data  = pickle.load(open(os.path.join(root,'input',DATA_DIR,INPUT_FOLDER,'test.pkl'),\"rb\"))\n",
    "extra_data1 = pd.read_csv(os.path.join(root,'input',DATA_DIR,EXTRA_DATA1), index_col=\"date\", parse_dates=[\"date\"])\n",
    "print('train_data',train_data.shape, 'test_data',test_data.shape, 'extra_data1',extra_data1.shape)#, 'atactic_test_target',atactic_test_target.shape,time.time()-tic,'sec')\n",
    "ac_tags = pd.read_csv('activity_tags.csv',delimiter=';')\n",
    "def feat_desc(fname): desc = ac_tags[ac_tags.feature==fname][['description','units']].values[0]; return desc[0] + ', ' + desc[1]\n",
    "print(train_data.index[0], train_data.index[-1])\n",
    "feat_desc('f23')\n"
   ]
  },
  {
   "cell_type": "code",
   "execution_count": 2,
   "metadata": {},
   "outputs": [
    {
     "data": {
      "text/html": [
       "<div>\n",
       "<style scoped>\n",
       "    .dataframe tbody tr th:only-of-type {\n",
       "        vertical-align: middle;\n",
       "    }\n",
       "\n",
       "    .dataframe tbody tr th {\n",
       "        vertical-align: top;\n",
       "    }\n",
       "\n",
       "    .dataframe thead th {\n",
       "        text-align: right;\n",
       "    }\n",
       "</style>\n",
       "<table border=\"1\" class=\"dataframe\">\n",
       "  <thead>\n",
       "    <tr style=\"text-align: right;\">\n",
       "      <th></th>\n",
       "      <th>f0</th>\n",
       "      <th>f1</th>\n",
       "      <th>f2</th>\n",
       "      <th>f3</th>\n",
       "      <th>f4</th>\n",
       "      <th>f5</th>\n",
       "      <th>f6</th>\n",
       "      <th>f7</th>\n",
       "      <th>f8</th>\n",
       "      <th>f9</th>\n",
       "      <th>...</th>\n",
       "      <th>f46_6H_min</th>\n",
       "      <th>f47_6H_min</th>\n",
       "      <th>f48_6H_min</th>\n",
       "      <th>f49_6H_min</th>\n",
       "      <th>f50_6H_min</th>\n",
       "      <th>f51_6H_min</th>\n",
       "      <th>f52_6H_min</th>\n",
       "      <th>f53_6H_min</th>\n",
       "      <th>f54_6H_min</th>\n",
       "      <th>f55_6H_min</th>\n",
       "    </tr>\n",
       "    <tr>\n",
       "      <th>date</th>\n",
       "      <th></th>\n",
       "      <th></th>\n",
       "      <th></th>\n",
       "      <th></th>\n",
       "      <th></th>\n",
       "      <th></th>\n",
       "      <th></th>\n",
       "      <th></th>\n",
       "      <th></th>\n",
       "      <th></th>\n",
       "      <th></th>\n",
       "      <th></th>\n",
       "      <th></th>\n",
       "      <th></th>\n",
       "      <th></th>\n",
       "      <th></th>\n",
       "      <th></th>\n",
       "      <th></th>\n",
       "      <th></th>\n",
       "      <th></th>\n",
       "      <th></th>\n",
       "    </tr>\n",
       "  </thead>\n",
       "  <tbody>\n",
       "    <tr>\n",
       "      <th>2019-03-13 23:56:00</th>\n",
       "      <td>50.067841</td>\n",
       "      <td>297.377600</td>\n",
       "      <td>1.650564</td>\n",
       "      <td>0.00005</td>\n",
       "      <td>0.020548</td>\n",
       "      <td>0.001808</td>\n",
       "      <td>1.716801e+06</td>\n",
       "      <td>736386.942702</td>\n",
       "      <td>2.500210</td>\n",
       "      <td>0.534635</td>\n",
       "      <td>...</td>\n",
       "      <td>336.42688</td>\n",
       "      <td>336.4898</td>\n",
       "      <td>336.1522</td>\n",
       "      <td>336.2317</td>\n",
       "      <td>342.9049</td>\n",
       "      <td>332.7594</td>\n",
       "      <td>332.70145</td>\n",
       "      <td>492.185205</td>\n",
       "      <td>496.125787</td>\n",
       "      <td>504.365921</td>\n",
       "    </tr>\n",
       "    <tr>\n",
       "      <th>2019-03-13 23:57:00</th>\n",
       "      <td>50.065559</td>\n",
       "      <td>297.376690</td>\n",
       "      <td>1.649752</td>\n",
       "      <td>0.00005</td>\n",
       "      <td>0.020549</td>\n",
       "      <td>0.001804</td>\n",
       "      <td>1.716301e+06</td>\n",
       "      <td>735791.852656</td>\n",
       "      <td>2.500291</td>\n",
       "      <td>0.534372</td>\n",
       "      <td>...</td>\n",
       "      <td>336.42688</td>\n",
       "      <td>336.4898</td>\n",
       "      <td>336.1522</td>\n",
       "      <td>336.2317</td>\n",
       "      <td>342.9049</td>\n",
       "      <td>332.7594</td>\n",
       "      <td>332.70145</td>\n",
       "      <td>492.185205</td>\n",
       "      <td>496.125787</td>\n",
       "      <td>504.365921</td>\n",
       "    </tr>\n",
       "    <tr>\n",
       "      <th>2019-03-13 23:58:00</th>\n",
       "      <td>50.042580</td>\n",
       "      <td>297.365780</td>\n",
       "      <td>1.650221</td>\n",
       "      <td>0.00005</td>\n",
       "      <td>0.020551</td>\n",
       "      <td>0.001796</td>\n",
       "      <td>1.716224e+06</td>\n",
       "      <td>733531.249319</td>\n",
       "      <td>2.500176</td>\n",
       "      <td>0.534309</td>\n",
       "      <td>...</td>\n",
       "      <td>336.42688</td>\n",
       "      <td>336.4898</td>\n",
       "      <td>336.1522</td>\n",
       "      <td>336.2317</td>\n",
       "      <td>342.9049</td>\n",
       "      <td>332.7594</td>\n",
       "      <td>332.70145</td>\n",
       "      <td>492.185205</td>\n",
       "      <td>496.125787</td>\n",
       "      <td>504.365921</td>\n",
       "    </tr>\n",
       "    <tr>\n",
       "      <th>2019-03-13 23:59:00</th>\n",
       "      <td>50.022259</td>\n",
       "      <td>297.362021</td>\n",
       "      <td>1.650522</td>\n",
       "      <td>0.00005</td>\n",
       "      <td>0.020559</td>\n",
       "      <td>0.001779</td>\n",
       "      <td>1.716358e+06</td>\n",
       "      <td>735581.798870</td>\n",
       "      <td>2.500185</td>\n",
       "      <td>0.534332</td>\n",
       "      <td>...</td>\n",
       "      <td>336.42688</td>\n",
       "      <td>336.4898</td>\n",
       "      <td>336.1522</td>\n",
       "      <td>336.2317</td>\n",
       "      <td>342.9049</td>\n",
       "      <td>332.7594</td>\n",
       "      <td>332.70145</td>\n",
       "      <td>492.185205</td>\n",
       "      <td>496.125787</td>\n",
       "      <td>504.365921</td>\n",
       "    </tr>\n",
       "    <tr>\n",
       "      <th>2019-03-14 00:00:00</th>\n",
       "      <td>50.001801</td>\n",
       "      <td>297.379650</td>\n",
       "      <td>1.650972</td>\n",
       "      <td>0.00005</td>\n",
       "      <td>0.020551</td>\n",
       "      <td>0.001775</td>\n",
       "      <td>1.716858e+06</td>\n",
       "      <td>733989.093625</td>\n",
       "      <td>2.500373</td>\n",
       "      <td>0.534659</td>\n",
       "      <td>...</td>\n",
       "      <td>336.42688</td>\n",
       "      <td>336.4898</td>\n",
       "      <td>336.1522</td>\n",
       "      <td>336.2317</td>\n",
       "      <td>342.9049</td>\n",
       "      <td>332.7594</td>\n",
       "      <td>332.70145</td>\n",
       "      <td>492.185205</td>\n",
       "      <td>496.125787</td>\n",
       "      <td>504.365921</td>\n",
       "    </tr>\n",
       "  </tbody>\n",
       "</table>\n",
       "<p>5 rows × 880 columns</p>\n",
       "</div>"
      ],
      "text/plain": [
       "                            f0          f1        f2       f3        f4  \\\n",
       "date                                                                      \n",
       "2019-03-13 23:56:00  50.067841  297.377600  1.650564  0.00005  0.020548   \n",
       "2019-03-13 23:57:00  50.065559  297.376690  1.649752  0.00005  0.020549   \n",
       "2019-03-13 23:58:00  50.042580  297.365780  1.650221  0.00005  0.020551   \n",
       "2019-03-13 23:59:00  50.022259  297.362021  1.650522  0.00005  0.020559   \n",
       "2019-03-14 00:00:00  50.001801  297.379650  1.650972  0.00005  0.020551   \n",
       "\n",
       "                           f5            f6             f7        f8  \\\n",
       "date                                                                   \n",
       "2019-03-13 23:56:00  0.001808  1.716801e+06  736386.942702  2.500210   \n",
       "2019-03-13 23:57:00  0.001804  1.716301e+06  735791.852656  2.500291   \n",
       "2019-03-13 23:58:00  0.001796  1.716224e+06  733531.249319  2.500176   \n",
       "2019-03-13 23:59:00  0.001779  1.716358e+06  735581.798870  2.500185   \n",
       "2019-03-14 00:00:00  0.001775  1.716858e+06  733989.093625  2.500373   \n",
       "\n",
       "                           f9  ...  f46_6H_min  f47_6H_min  f48_6H_min  \\\n",
       "date                           ...                                       \n",
       "2019-03-13 23:56:00  0.534635  ...   336.42688    336.4898    336.1522   \n",
       "2019-03-13 23:57:00  0.534372  ...   336.42688    336.4898    336.1522   \n",
       "2019-03-13 23:58:00  0.534309  ...   336.42688    336.4898    336.1522   \n",
       "2019-03-13 23:59:00  0.534332  ...   336.42688    336.4898    336.1522   \n",
       "2019-03-14 00:00:00  0.534659  ...   336.42688    336.4898    336.1522   \n",
       "\n",
       "                     f49_6H_min  f50_6H_min  f51_6H_min  f52_6H_min  \\\n",
       "date                                                                  \n",
       "2019-03-13 23:56:00    336.2317    342.9049    332.7594   332.70145   \n",
       "2019-03-13 23:57:00    336.2317    342.9049    332.7594   332.70145   \n",
       "2019-03-13 23:58:00    336.2317    342.9049    332.7594   332.70145   \n",
       "2019-03-13 23:59:00    336.2317    342.9049    332.7594   332.70145   \n",
       "2019-03-14 00:00:00    336.2317    342.9049    332.7594   332.70145   \n",
       "\n",
       "                     f53_6H_min  f54_6H_min  f55_6H_min  \n",
       "date                                                     \n",
       "2019-03-13 23:56:00  492.185205  496.125787  504.365921  \n",
       "2019-03-13 23:57:00  492.185205  496.125787  504.365921  \n",
       "2019-03-13 23:58:00  492.185205  496.125787  504.365921  \n",
       "2019-03-13 23:59:00  492.185205  496.125787  504.365921  \n",
       "2019-03-14 00:00:00  492.185205  496.125787  504.365921  \n",
       "\n",
       "[5 rows x 880 columns]"
      ]
     },
     "execution_count": 2,
     "metadata": {},
     "output_type": "execute_result"
    }
   ],
   "source": [
    "test_data.tail()"
   ]
  },
  {
   "cell_type": "code",
   "execution_count": 3,
   "metadata": {},
   "outputs": [
    {
     "data": {
      "text/plain": [
       "<matplotlib.axes._subplots.AxesSubplot at 0x16f64294320>"
      ]
     },
     "execution_count": 3,
     "metadata": {},
     "output_type": "execute_result"
    },
    {
     "data": {
      "image/png": "[encoded data removed]",
      "text/plain": [
       "<Figure size 432x288 with 1 Axes>"
      ]
     },
     "metadata": {
      "needs_background": "light"
     },
     "output_type": "display_data"
    }
   ],
   "source": [
    "start = '2018-04-01 00:05:00'\n",
    "end = '2018-04-01 05:05:00'\n",
    "\n",
    "(train_data[['f53','f54','f55']].max(axis=1)/1000 + 30)[start:end].plot()\n",
    "\n",
    "#max([train_data['f53'],train_data['f54'],train_data['f55']]).plot()"
   ]
  },
  {
   "cell_type": "code",
   "execution_count": 4,
   "metadata": {},
   "outputs": [
    {
     "name": "stdout",
     "output_type": "stream",
     "text": [
      "0.022149800515279885\n"
     ]
    },
    {
     "data": {
      "text/plain": [
       "<matplotlib.legend.Legend at 0x16f66ff8c18>"
      ]
     },
     "execution_count": 4,
     "metadata": {},
     "output_type": "execute_result"
    },
    {
     "name": "stderr",
     "output_type": "stream",
     "text": [
      "D:\\Programs\\x64\\Anaconda_3_2019_07\\lib\\site-packages\\IPython\\core\\events.py:88: UserWarning: Creating legend with loc=\"best\" can be slow with large amounts of data.\n",
      "  func(*args, **kwargs)\n",
      "D:\\Programs\\x64\\Anaconda_3_2019_07\\lib\\site-packages\\IPython\\core\\pylabtools.py:128: UserWarning: Creating legend with loc=\"best\" can be slow with large amounts of data.\n",
      "  fig.canvas.print_figure(bytes_io, **kw)\n"
     ]
    },
    {
     "data": {
      "image/png": "[encoded data removed]",
      "text/plain": [
       "<Figure size 1440x288 with 1 Axes>"
      ]
     },
     "metadata": {
      "needs_background": "light"
     },
     "output_type": "display_data"
    }
   ],
   "source": [
    "start = '2018-01-04 00:05:00'\n",
    "end = '2018-12-05 05:05:00'\n",
    "\n",
    "def f(fnum): return train_data['f'+str(fnum)]#[0]#round(train_data['f'+str(fnum)][0],4)\n",
    "\n",
    "catal_r1 = f(4)+f(22)+f(5)+f(3)\n",
    "catal_r2 = f(12)+f(23)+f(13)+f(11)\n",
    "prop_r1 = f(2)+f(20)\n",
    "prop_r2 = f(10)+f(21)\n",
    "#mean_weight = (train_data['f53']/1000 + train_data['f54']/1000 + train_data['f55']/1000 )/3\n",
    "#mean_weight = (train_data['f53'] + train_data['f54'] + train_data['f55'] )/3\n",
    "mean_weight = train_data[['f53','f54','f55']].max(axis=1) #/1000 + 30)\n",
    "print((catal_r1/prop_r1 + catal_r2/prop_r2)[0])\n",
    "\n",
    "\n",
    "#formula = 1000 * (catal_r1/prop_r1 + catal_r2/prop_r2)\n",
    "#formula = (prop_r1/catal_r1 + prop_r2/catal_r2)/2\n",
    "#formula = mean_weight/(prop_r1/catal_r1 + prop_r2/catal_r2)\n",
    "\n",
    "#formula = f(35)*0.3 + mean_weight*2#/ ( (catal_r1/prop_r1 + catal_r2/prop_r2) )\n",
    "\n",
    "# k1=0.3; k2=2; d2=1000; b=0\n",
    "#k1=0.2; k2=2; d2=800; b=0\n",
    "k1=0.2; k2=2; d2=800; b=0\n",
    "\n",
    "formula = f(35)*k1 + mean_weight*k2 + b#/ ( (catal_r1/prop_r1 + catal_r2/prop_r2) )\n",
    "    \n",
    "#formula = f(35)*0.1 + mean_weight*2#/ ( (catal_r1/prop_r1 + catal_r2/prop_r2) )\n",
    "\n",
    "\n",
    "train_data['activity_new'] = formula/d2\n",
    "#((train_data['activity_new'][start:end]*10)-430).plot()\n",
    "train_data['activity_new'][start:end].plot(figsize=(20,4))\n",
    "\n",
    "train_data['activity'][start:end].plot(alpha=0.5)\n",
    "plt.legend()"
   ]
  },
  {
   "cell_type": "code",
   "execution_count": 5,
   "metadata": {},
   "outputs": [
    {
     "data": {
      "text/plain": [
       "<matplotlib.legend.Legend at 0x16f68cc4588>"
      ]
     },
     "execution_count": 5,
     "metadata": {},
     "output_type": "execute_result"
    },
    {
     "data": {
      "image/png": "[encoded data removed]",
      "text/plain": [
       "<Figure size 720x144 with 1 Axes>"
      ]
     },
     "metadata": {
      "needs_background": "light"
     },
     "output_type": "display_data"
    }
   ],
   "source": [
    "start = '2019-01-01 00:05:00'\n",
    "end = '2019-12-02 13:05:00'\n",
    "#test_data['activity'][start:end].plot()\n",
    "#(test_data['f53'][start:end]/1000 + 30).plot()#figsize=(10,4))\n",
    "#(train_data['f53']['2018-01-01 00:05:00':'2018-03-14 00:00:00']/1000 + 30).plot(figsize=(10,2))#figsize=(10,4))\n",
    "(train_data['f53']['2018-03-01 00:05:00':'2018-05-14 00:00:00']/1000 + 30).plot(figsize=(10,2))#figsize=(10,4))\n",
    "\n",
    "##(test_data['f54'][start:end]/1000 + 30).plot()#figsize=(10,4))\n",
    "#(test_data['f55'][start:end]/1000 + 30).plot()#figsize=(10,4))\n",
    "#(test_data[['f53','f54','f55']].max(axis=1)/1000 + 50)[start:end].plot()\n",
    "\n",
    "plt.legend()"
   ]
  },
  {
   "cell_type": "code",
   "execution_count": 6,
   "metadata": {},
   "outputs": [
    {
     "data": {
      "text/plain": [
       "<matplotlib.legend.Legend at 0x16f695e9e80>"
      ]
     },
     "execution_count": 6,
     "metadata": {},
     "output_type": "execute_result"
    },
    {
     "data": {
      "image/png": "[encoded data removed]",
      "text/plain": [
       "<Figure size 720x144 with 1 Axes>"
      ]
     },
     "metadata": {
      "needs_background": "light"
     },
     "output_type": "display_data"
    }
   ],
   "source": [
    "start = '2019-01-01 00:05:00'\n",
    "end = '2019-12-02 13:05:00'\n",
    "#test_data['activity'][start:end].plot()\n",
    "(test_data['f53'][start:end]/1000 + 30).plot(figsize=(10,2))#figsize=(10,2))\n",
    "#(train_data['f53']['2018-01-01 00:05:00':'2018-03-14 00:00:00']/1000 + 30).plot(figsize=(10,4))#figsize=(10,4))\n",
    "\n",
    "##(test_data['f54'][start:end]/1000 + 30).plot()#figsize=(10,4))\n",
    "#(test_data['f55'][start:end]/1000 + 30).plot()#figsize=(10,4))\n",
    "#(test_data[['f53','f54','f55']].max(axis=1)/1000 + 50)[start:end].plot()\n",
    "\n",
    "plt.legend()"
   ]
  },
  {
   "cell_type": "code",
   "execution_count": null,
   "metadata": {},
   "outputs": [],
   "source": [
    "start = '2019-01-01 00:05:00'\n",
    "end = '2019-12-05 05:05:00'\n",
    "def f(fnum): return test_data['f'+str(fnum)]#[0]#round(train_data['f'+str(fnum)][0],4)\n",
    "\n",
    "catal_r1 = f(4)+f(22)+f(5)+f(3)\n",
    "catal_r2 = f(12)+f(23)+f(13)+f(11)\n",
    "prop_r1 = f(2)+f(20)\n",
    "prop_r2 = f(10)+f(21)\n",
    "mean_weight = train_data[['f53','f54','f55']].max(axis=1) #/1000 + 30)\n",
    "print((catal_r1/prop_r1 + catal_r2/prop_r2)[0])\n",
    "# k1=0.3; k2=2; d2=1000; b=0\n",
    "#k1=0.2; k2=2; d2=800; b=0\n",
    "k1=0.2; k2=2; d2=800; b=0\n",
    "formula = f(35)*k1 + mean_weight*k2 + b#/ ( (catal_r1/prop_r1 + catal_r2/prop_r2) )\n",
    "test_data['activity_new'] = formula/d2\n",
    "test_data['activity_new'][start:end].plot(figsize=(20,4))\n",
    "#train_data['activity'][start:end].plot(alpha=0.5)\n",
    "plt.legend()"
   ]
  },
  {
   "cell_type": "code",
   "execution_count": null,
   "metadata": {},
   "outputs": [],
   "source": [
    "start = '2018-04-01 19:05:00' #'2018-04-04 19:05:00' \n",
    "end   = '2018-05-04 19:05:00' #'2018-04-26 19:05:00'#'2018-04-09 05:05:00'#\n",
    "# start = '2018-04-01 00:05:00'\n",
    "# end = '2018-04-01 05:05:00'\n",
    "def _plot(fname,mult,sub): \n",
    "    ((train_data[fname][start:end])*mult-sub).plot(label=fname+';'+feat_desc(fname))\n",
    "\n",
    "train_data['activity'][start:end].plot()\n",
    "_plot('f35',0.001,0)\n",
    "\n",
    "plt.legend(loc='lower left')"
   ]
  },
  {
   "cell_type": "code",
   "execution_count": null,
   "metadata": {},
   "outputs": [],
   "source": [
    "start = '2018-04-01 00:05:00'\n",
    "end = '2018-04-01 05:05:00'\n",
    "train_data['activity'][start:end].plot()\n",
    "((train_data['f17'][start:end] - 343.15)*100+18).plot(figsize=(10,6))#figsize=(10,40))#figsize=(10,4))\n",
    "((train_data['f46'][start:end] - 343.15)*50+370).plot()#figsize=(10,40))#figsize=(10,4))\n",
    "((train_data['f47'][start:end] - 343.15)*50+370).plot()#figsize=(10,40))#figsize=(10,4))\n",
    "((train_data['f41'][start:end] - 343.15)*100+10).plot()#figsize=(10,40))#figsize=(10,4))\n",
    "((train_data['f39'][start:end] - 343.15)*100+5).plot()#figsize=(10,40))#figsize=(10,4))\n",
    "\n",
    "plt.legend()"
   ]
  },
  {
   "cell_type": "code",
   "execution_count": null,
   "metadata": {},
   "outputs": [],
   "source": [
    "start = '2018-04-01 00:05:00'\n",
    "end = '2018-04-01 13:05:00'\n",
    "train_data['activity'][start:end].plot()\n",
    "(train_data['f53'][start:end]/1000 + 30).plot()#figsize=(10,4))\n",
    "(train_data['f54'][start:end]/1000 + 30).plot()#figsize=(10,4))\n",
    "(train_data['f55'][start:end]/1000 + 30).plot()#figsize=(10,4))\n",
    "(train_data[['f53','f54','f55']].max(axis=1)/1000 + 50)[start:end].plot()\n",
    "\n",
    "plt.legend()"
   ]
  },
  {
   "cell_type": "code",
   "execution_count": null,
   "metadata": {},
   "outputs": [],
   "source": [
    "(train_data['activity'])[:'2018-04-01 03:05:00'].plot()\n",
    "plt.legend()"
   ]
  },
  {
   "cell_type": "code",
   "execution_count": null,
   "metadata": {},
   "outputs": [],
   "source": [
    "start = '2018-04-01 00:05:00'\n",
    "end = '2018-04-01 03:05:00'\n",
    "def _plot(fname,mult,sub): \n",
    "    ((train_data[fname][start:end])*mult-sub).plot(figsize=(6,6),label=fname+';'+feat_desc(fname))\n",
    "\n",
    "train_data['activity'][start:end].plot()\n",
    "_plot('f2',1000,1685)\n",
    "_plot('f20',1000,1615)\n",
    "_plot('f4',1000,10)\n",
    "_plot('f22',1000,5)\n",
    "_plot('f5',1000,5)\n",
    "_plot('f3',1000,5)\n",
    "_plot('f0',1,0)\n",
    "\n",
    "plt.legend(loc='lower left')"
   ]
  },
  {
   "cell_type": "code",
   "execution_count": null,
   "metadata": {},
   "outputs": [],
   "source": [
    "start = '2018-04-01 00:05:00'\n",
    "end = '2018-04-01 03:05:00'\n",
    "def _plot(fname,mult,sub): \n",
    "    ((train_data[fname][start:end])*mult-sub).plot(figsize=(10,6),label=fname+';'+feat_desc(fname))\n",
    "\n",
    "train_data['activity'][start:end].plot()\n",
    "_plot('f6',0.00001,-15)\n",
    "_plot('f35',0.00001,-15)\n",
    "_plot('f37',0.00001,-15)\n",
    "\n",
    "plt.legend(loc='lower left')"
   ]
  },
  {
   "cell_type": "code",
   "execution_count": null,
   "metadata": {},
   "outputs": [],
   "source": [
    "start = '2018-04-01 00:05:00'\n",
    "end = '2018-04-01 03:05:00'\n",
    "def _plot(fname,mult,sub): \n",
    "    ((train_data[fname][start:end])*mult-sub).plot(figsize=(10,6),label=fname+';'+feat_desc(fname))\n",
    "\n",
    "train_data['activity'][start:end].plot()\n",
    "_plot('f1',100,29590)\n",
    "_plot('f24',100,27330)\n",
    "_plot('f38',100,34310)\n",
    "\n",
    "plt.legend(loc='lower left')"
   ]
  },
  {
   "cell_type": "code",
   "execution_count": null,
   "metadata": {},
   "outputs": [],
   "source": [
    "start = '2018-04-01 00:05:00'\n",
    "end = '2018-04-04 03:05:00'\n",
    "def _plot(fname,mult,sub): \n",
    "    ((train_data[fname][start:end])*mult-sub).plot(figsize=(7,5),label=fname+';'+feat_desc(fname))\n",
    "\n",
    "train_data['activity'][start:end].plot()\n",
    "#_plot('f42',100,26250)\n",
    "_plot('f42',1,200)\n",
    "\n",
    "_plot('f43',0.01,1001)\n",
    "_plot('f44',1,0)\n",
    "\n",
    "plt.legend(loc='lower left')"
   ]
  },
  {
   "cell_type": "code",
   "execution_count": null,
   "metadata": {},
   "outputs": [],
   "source": [
    "#(train_data['activity']+30)[:'2018-04-01 12:05:00'].plot()\n",
    "#(train_data['f33']-273.15)[:'2018-04-01 03:05:00'].plot()\n",
    "#(train_data['f39']-273.15)[:'2018-04-01 12:05:00'].plot()\n",
    "\n",
    "end = None\n",
    "start = '2018-04-02 13:05:00'\n",
    "end = '2018-04-02 17:05:00'\n",
    "\n",
    "((train_data['f53']+train_data['f54']+train_data['f55'])/300 + 0)[start:end].plot()\n",
    "((train_data['f53'])/1000 + 30)[start:end].plot()\n",
    "\n",
    "train_data['activity'][start:end].plot()\n",
    "\n",
    "plt.legend()"
   ]
  },
  {
   "cell_type": "code",
   "execution_count": null,
   "metadata": {},
   "outputs": [],
   "source": [
    "for col in ['f4','f22','f5','f3','f2']: #train_data.columns:\n",
    "    train_data[col][:'2018-04-01 12:05:00'].plot()\n",
    "    \n",
    "plt.legend()"
   ]
  },
  {
   "cell_type": "code",
   "execution_count": null,
   "metadata": {},
   "outputs": [],
   "source": [
    "start = '2018-04-01 19:05:00' #'2018-04-04 19:05:00' \n",
    "end   = '2018-05-04 19:05:00' #'2018-04-26 19:05:00'#'2018-04-09 05:05:00'#\n",
    "def _plot(fname,mult,sub): \n",
    "    ((train_data[fname][start:end])*mult-sub).plot(figsize=(17,5),label=fname+';'+feat_desc(fname))\n",
    "\n",
    "train_data['activity'][start:end].plot()\n",
    "_plot('f35',0.001,0)\n",
    "\n",
    "plt.legend(loc='lower left')"
   ]
  },
  {
   "cell_type": "code",
   "execution_count": null,
   "metadata": {},
   "outputs": [],
   "source": [
    "start = '2018-04-01 19:05:00' #'2018-04-04 19:05:00' \n",
    "end   = '2018-05-04 19:05:00' #'2018-04-26 19:05:00'#'2018-04-09 05:05:00'#\n",
    "def _plot(fname,mult,sub): \n",
    "    ((train_data[fname][start:end])*mult-sub).plot(figsize=(17,5),label=fname+';'+feat_desc(fname))\n",
    "\n",
    "train_data['activity'][start:end].plot()\n",
    "_plot('f37',0.001,150)\n",
    "#_plot('f37',1,0)\n",
    "\n",
    "plt.legend(loc='lower left')"
   ]
  },
  {
   "cell_type": "code",
   "execution_count": null,
   "metadata": {},
   "outputs": [],
   "source": [
    "start = '2018-04-01 19:05:00' #'2018-04-04 19:05:00' \n",
    "end   = '2018-05-04 19:05:00' #'2018-04-26 19:05:00'#'2018-04-09 05:05:00'#\n",
    "def _plot(fname,mult,sub): \n",
    "    ((train_data[fname][start:end])*mult-sub).plot(figsize=(17,5),label=fname+';'+feat_desc(fname))\n",
    "\n",
    "train_data['activity'][start:end].plot()\n",
    "_plot('f1',1,273.15)\n",
    "_plot('f24',1,273.15)\n",
    "#_plot('f24',1,0)\n",
    "_plot('f38',1,273.15)\n",
    "\n",
    "#_plot('f37',1,0)\n",
    "\n",
    "plt.legend(loc='lower left')"
   ]
  },
  {
   "cell_type": "code",
   "execution_count": null,
   "metadata": {},
   "outputs": [],
   "source": [
    "def f(fnum): return train_data['f'+str(fnum)][0]#round(train_data['f'+str(fnum)][0],4)"
   ]
  },
  {
   "cell_type": "code",
   "execution_count": null,
   "metadata": {},
   "outputs": [],
   "source": [
    "f(2), f(20)"
   ]
  },
  {
   "cell_type": "code",
   "execution_count": null,
   "metadata": {},
   "outputs": [],
   "source": [
    "f(4), f(22), f(5), f(3), f(4)+f(22)+f(5)+f(3)"
   ]
  },
  {
   "cell_type": "code",
   "execution_count": null,
   "metadata": {},
   "outputs": [],
   "source": [
    "1000 * (f(4)+f(22)+f(5)+f(3))/f(2)"
   ]
  },
  {
   "cell_type": "code",
   "execution_count": null,
   "metadata": {},
   "outputs": [],
   "source": [
    "1000 * (f(12)+f(23)+f(13)+f(11))/f(10)"
   ]
  },
  {
   "cell_type": "code",
   "execution_count": null,
   "metadata": {},
   "outputs": [],
   "source": [
    "1000 * (f(4)+f(22)+f(5)+f(3))/f(2) + 1000 * (f(12)+f(23)+f(13)+f(11))/f(10)"
   ]
  },
  {
   "cell_type": "code",
   "execution_count": null,
   "metadata": {},
   "outputs": [],
   "source": []
  }
 ],
 "metadata": {
  "kernelspec": {
   "display_name": "Python 3",
   "language": "python",
   "name": "python3"
  },
  "language_info": {
   "codemirror_mode": {
    "name": "ipython",
    "version": 3
   },
   "file_extension": ".py",
   "mimetype": "text/x-python",
   "name": "python",
   "nbconvert_exporter": "python",
   "pygments_lexer": "ipython3",
   "version": "3.7.3"
  }
 },
 "nbformat": 4,
 "nbformat_minor": 2
}
